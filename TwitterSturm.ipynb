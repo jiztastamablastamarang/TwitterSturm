{
  "cells": [
    {
      "cell_type": "markdown",
      "metadata": {
        "id": "view-in-github",
        "colab_type": "text"
      },
      "source": [
        "<a href=\"https://colab.research.google.com/github/jiztastamablastamarang/TwitterSturm/blob/main/TwitterSturm.ipynb\" target=\"_parent\"><img src=\"https://colab.research.google.com/assets/colab-badge.svg\" alt=\"Open In Colab\"/></a>"
      ]
    },
    {
      "cell_type": "markdown",
      "source": [
        "###CTRL + F9 Щоб запустити весь код, або Runtime => Run all###"
      ],
      "metadata": {
        "id": "ok9pmhgiZyed"
      }
    },
    {
      "cell_type": "markdown",
      "metadata": {
        "id": "4dMChOR62WtO"
      },
      "source": [
        "\n",
        "##Credentials##\n",
        "Реєструємо API Twitter та створюємо додаток з можливістю читати та писати повідомлення. Після цього буде згенеровано подібні ключі доступу"
      ]
    },
    {
      "cell_type": "code",
      "execution_count": 6,
      "metadata": {
        "id": "wppQe8Iw2XdG"
      },
      "outputs": [],
      "source": [
        "KEY = \"\"\n",
        "SECRET = \"\"\n",
        "TOKEN = \"\"\n",
        "TOKEN_SECRET = \"\""
      ]
    },
    {
      "cell_type": "markdown",
      "metadata": {
        "id": "68O1BswnG8lb"
      },
      "source": [
        "##Docs##\n",
        "Гуглотаблиці списком користувачей, контентом, директорія з фото"
      ]
    },
    {
      "cell_type": "code",
      "execution_count": 36,
      "metadata": {
        "id": "34toM6rlHAWz"
      },
      "outputs": [],
      "source": [
        "# USERS = \"https://docs.google.com/spreadsheets/d/1uUF6WGtFl-WBPe_oLdk4gdgFp09aPOAekBWmHdIUnC0/edit#gid=0\" #повний список сенаторів\n",
        "USERS = \"https://docs.google.com/spreadsheets/d/1UgpJjBFaGD89dYYsxJLJQn1GNyd9Fo6Rg1df4XSNnuQ/edit#gid=0\" #обрізані сенатори\n",
        "CONTENT = \"https://docs.google.com/spreadsheets/d/1dsdTocyIgQpJYrBLnjxBl9e3Bdw65vAWmpBPorzLlrI/edit#gid=0\"# коменти\n",
        "IMGS = \"https://drive.google.com/drive/folders/1V7YZjkovjvvJAoTBEpAGp4VwlRWdneXA\" # директорія з фото\n",
        "# IMGS = \"https://docs.google.com/spreadsheets/d/1TmQXycbTh7EsgArWT2mqUfQRPXBmidxZB5lsmyFfnRQ/edit#gid=0\" #або URL з фото"
      ]
    },
    {
      "cell_type": "code",
      "execution_count": 37,
      "metadata": {
        "id": "ECq5S8eTu22Z"
      },
      "outputs": [],
      "source": [
        "def load_doc(url):\n",
        "  return pd.read_csv(url.replace(\"/edit#gid=\", \"/export?format=csv&gid=\"), on_bad_lines=\"skip\")"
      ]
    },
    {
      "cell_type": "markdown",
      "metadata": {
        "id": "EmD9zDNlFpcq"
      },
      "source": [
        "##Modules##"
      ]
    },
    {
      "cell_type": "code",
      "execution_count": 9,
      "metadata": {
        "id": "BXZO1rDQ-l5Z"
      },
      "outputs": [],
      "source": [
        "import tweepy\n",
        "import pandas as pd\n",
        "import requests\n",
        "import os\n",
        "import glob\n",
        "import random\n",
        "import shutil\n",
        "import time\n",
        "\n",
        "from pydrive.auth import GoogleAuth\n",
        "from pydrive.drive import GoogleDrive\n",
        "from google.colab import auth\n",
        "from oauth2client.client import GoogleCredentials"
      ]
    },
    {
      "cell_type": "code",
      "execution_count": 10,
      "metadata": {
        "id": "XIkHcd5Sh-I4"
      },
      "outputs": [],
      "source": [
        "!pip install -U -q PyDrive"
      ]
    },
    {
      "cell_type": "markdown",
      "metadata": {
        "id": "SZU_ewNTujCQ"
      },
      "source": [
        "##API##"
      ]
    },
    {
      "cell_type": "code",
      "execution_count": 11,
      "metadata": {
        "id": "s1fkMqVX25_b"
      },
      "outputs": [],
      "source": [
        "def swad():\n",
        "  auth = tweepy.OAuthHandler(KEY, SECRET)\n",
        "  auth.set_access_token(TOKEN, TOKEN_SECRET)\n",
        "  api = tweepy.API(auth, \n",
        "                   wait_on_rate_limit=True, \n",
        "                   wait_on_rate_limit_notify=True)\n",
        "  try:\n",
        "      api.verify_credentials()\n",
        "  except:\n",
        "      print(\"ups!\")\n",
        "  return api\n",
        "  \n",
        "api = swad()"
      ]
    },
    {
      "cell_type": "markdown",
      "metadata": {
        "id": "efbNPzhA7ARf"
      },
      "source": [
        "##Images##"
      ]
    },
    {
      "cell_type": "code",
      "execution_count": 12,
      "metadata": {
        "id": "j77fFEsZAEi4"
      },
      "outputs": [],
      "source": [
        "# images = load_doc(IMGS)\n",
        "\n",
        "# def load_img(url):\n",
        "#   file_name = \"new.jpg\"\n",
        "#   request = requests.get(url, stream=True)\n",
        "#   if request.status_code==200:\n",
        "#     with open(file_name, \"wb\") as file:\n",
        "#       for chunk in request:\n",
        "#         file.write(chunk)\n",
        "#       media = api.media_upload(file_name)\n",
        "#       os.remove(file_name)\n",
        "#       return media\n",
        "#   else:\n",
        "#     print(\"ups!\")\n",
        "\n",
        "# imgs = []\n",
        "# for url in images[\"URL\"]:\n",
        "#     imgs.append(load_img(url))"
      ]
    },
    {
      "cell_type": "markdown",
      "source": [
        "Тут може вискочити повідомлення про підтвердження дій с гуглодиском. Треба погодитися і ввести відповідний код, нажати enter"
      ],
      "metadata": {
        "id": "lrz6l-U4aH31"
      }
    },
    {
      "cell_type": "code",
      "execution_count": 13,
      "metadata": {
        "colab": {
          "base_uri": "https://localhost:8080/"
        },
        "id": "NFW8NO-DXC9B",
        "outputId": "8f55e3b3-5268-4bc9-db4e-6563ad8a1d73"
      },
      "outputs": [
        {
          "output_type": "stream",
          "name": "stdout",
          "text": [
            "uploading: photo_2022-02-25_07-17-45.jpg\n",
            "uploading: photo_2022-02-25_07-17-44.jpg\n",
            "uploading: 27_02_22_Bucha_fire3.jfif\n",
            "uploading: 27.02.22_Троєщина.jpeg\n",
            "uploading: 2022-02-27_Житомир_обстріл.jpg\n",
            "uploading: Бородянка_Після обстрілів.jpg\n",
            "uploading: gettyimages-1238718491.jpg\n",
            "uploading: 275186063_3244844625791550_7558080127054411714_n.jpg\n",
            "uploading: mariupol.jpeg\n",
            "uploading: 274660241_3059356657712999_6548491878968273213_n.jpg\n",
            "uploading: mariupol-2.jpeg\n",
            "uploading: pid-novoju-kahovkoju-okupanti-rozstrilyali-mashinu-miscevih-zhiteliv.jpeg\n",
            "uploading: original.jpg\n",
            "uploading: gettyimages-1238853230.jpg\n",
            "uploading: 274483441_3271747659721513_1428952723540980161_n.jpg\n",
            "uploading: Бородянка після обстрілів.jpg\n",
            "uploading: Харків2.jpg\n",
            "uploading: Kharkivsky Avenue, Kyiv Andriy Dubchak (Donbas Frontliner).jpg\n",
            "uploading: 228485_Harkiv_bombarduvanna_960x380_0.jpg\n",
            "uploading: 19_main.jpg\n",
            "uploading: Cz-8c_NPtMRVO2gwxO_1TVWBl7Osi-SA.jpg\n",
            "uploading: FMg41ReXwAQgTa7.jpg\n",
            "uploading: 24ukraine-briefing-morning-kyiv-01-mobileMasterAt3x (1).jpg\n"
          ]
        }
      ],
      "source": [
        "folder_id = IMGS.split(\"/\")[-1]\n",
        "imgs = []\n",
        "\n",
        "auth.authenticate_user()\n",
        "gauth = GoogleAuth()\n",
        "gauth.credentials = GoogleCredentials.get_application_default()\n",
        "drive = GoogleDrive(gauth)\n",
        "\n",
        "path = \"./temp\"\n",
        "try:\n",
        "    os.makedirs(path)\n",
        "except: pass\n",
        "\n",
        "file_list = drive.ListFile(\n",
        "    {'q': \"'{}' in parents\".format(folder_id)}).GetList()\n",
        "\n",
        "for image in file_list:\n",
        "    fname = os.path.join(path, image[\"title\"])\n",
        "    new_file = drive.CreateFile({\"id\": image[\"id\"]})\n",
        "    new_file.GetContentFile(fname)\n",
        "    print(\"uploading: \" + image[\"title\"])\n",
        "    imgs.append(api.media_upload(os.path.join(\"/content\", \"temp\", image[\"title\"] )))\n",
        "shutil.rmtree(path)"
      ]
    },
    {
      "cell_type": "markdown",
      "metadata": {
        "id": "B3dN5_twPra6"
      },
      "source": [
        "##Content##"
      ]
    },
    {
      "cell_type": "code",
      "execution_count": 14,
      "metadata": {
        "colab": {
          "base_uri": "https://localhost:8080/",
          "height": 174
        },
        "id": "wMa5iyedRRVp",
        "outputId": "92e71fff-0169-4aad-b57f-c843a6a8fe66"
      },
      "outputs": [
        {
          "output_type": "execute_result",
          "data": {
            "text/html": [
              "\n",
              "  <div id=\"df-5b8eb699-6ee6-4467-a7ec-5a267bb7eef8\">\n",
              "    <div class=\"colab-df-container\">\n",
              "      <div>\n",
              "<style scoped>\n",
              "    .dataframe tbody tr th:only-of-type {\n",
              "        vertical-align: middle;\n",
              "    }\n",
              "\n",
              "    .dataframe tbody tr th {\n",
              "        vertical-align: top;\n",
              "    }\n",
              "\n",
              "    .dataframe thead th {\n",
              "        text-align: right;\n",
              "    }\n",
              "</style>\n",
              "<table border=\"1\" class=\"dataframe\">\n",
              "  <thead>\n",
              "    <tr style=\"text-align: right;\">\n",
              "      <th></th>\n",
              "      <th>Messedge</th>\n",
              "      <th>Lengh</th>\n",
              "    </tr>\n",
              "  </thead>\n",
              "  <tbody>\n",
              "    <tr>\n",
              "      <th>0</th>\n",
              "      <td>We are fighting against armies and tanks, we d...</td>\n",
              "      <td>184</td>\n",
              "    </tr>\n",
              "    <tr>\n",
              "      <th>1</th>\n",
              "      <td>Russia is deliberately and continuously destro...</td>\n",
              "      <td>228</td>\n",
              "    </tr>\n",
              "    <tr>\n",
              "      <th>2</th>\n",
              "      <td>Ukraine brush with brand new naZis under the f...</td>\n",
              "      <td>244</td>\n",
              "    </tr>\n",
              "    <tr>\n",
              "      <th>3</th>\n",
              "      <td>Don't let Russia hurt our people. We call to #...</td>\n",
              "      <td>192</td>\n",
              "    </tr>\n",
              "  </tbody>\n",
              "</table>\n",
              "</div>\n",
              "      <button class=\"colab-df-convert\" onclick=\"convertToInteractive('df-5b8eb699-6ee6-4467-a7ec-5a267bb7eef8')\"\n",
              "              title=\"Convert this dataframe to an interactive table.\"\n",
              "              style=\"display:none;\">\n",
              "        \n",
              "  <svg xmlns=\"http://www.w3.org/2000/svg\" height=\"24px\"viewBox=\"0 0 24 24\"\n",
              "       width=\"24px\">\n",
              "    <path d=\"M0 0h24v24H0V0z\" fill=\"none\"/>\n",
              "    <path d=\"M18.56 5.44l.94 2.06.94-2.06 2.06-.94-2.06-.94-.94-2.06-.94 2.06-2.06.94zm-11 1L8.5 8.5l.94-2.06 2.06-.94-2.06-.94L8.5 2.5l-.94 2.06-2.06.94zm10 10l.94 2.06.94-2.06 2.06-.94-2.06-.94-.94-2.06-.94 2.06-2.06.94z\"/><path d=\"M17.41 7.96l-1.37-1.37c-.4-.4-.92-.59-1.43-.59-.52 0-1.04.2-1.43.59L10.3 9.45l-7.72 7.72c-.78.78-.78 2.05 0 2.83L4 21.41c.39.39.9.59 1.41.59.51 0 1.02-.2 1.41-.59l7.78-7.78 2.81-2.81c.8-.78.8-2.07 0-2.86zM5.41 20L4 18.59l7.72-7.72 1.47 1.35L5.41 20z\"/>\n",
              "  </svg>\n",
              "      </button>\n",
              "      \n",
              "  <style>\n",
              "    .colab-df-container {\n",
              "      display:flex;\n",
              "      flex-wrap:wrap;\n",
              "      gap: 12px;\n",
              "    }\n",
              "\n",
              "    .colab-df-convert {\n",
              "      background-color: #E8F0FE;\n",
              "      border: none;\n",
              "      border-radius: 50%;\n",
              "      cursor: pointer;\n",
              "      display: none;\n",
              "      fill: #1967D2;\n",
              "      height: 32px;\n",
              "      padding: 0 0 0 0;\n",
              "      width: 32px;\n",
              "    }\n",
              "\n",
              "    .colab-df-convert:hover {\n",
              "      background-color: #E2EBFA;\n",
              "      box-shadow: 0px 1px 2px rgba(60, 64, 67, 0.3), 0px 1px 3px 1px rgba(60, 64, 67, 0.15);\n",
              "      fill: #174EA6;\n",
              "    }\n",
              "\n",
              "    [theme=dark] .colab-df-convert {\n",
              "      background-color: #3B4455;\n",
              "      fill: #D2E3FC;\n",
              "    }\n",
              "\n",
              "    [theme=dark] .colab-df-convert:hover {\n",
              "      background-color: #434B5C;\n",
              "      box-shadow: 0px 1px 3px 1px rgba(0, 0, 0, 0.15);\n",
              "      filter: drop-shadow(0px 1px 2px rgba(0, 0, 0, 0.3));\n",
              "      fill: #FFFFFF;\n",
              "    }\n",
              "  </style>\n",
              "\n",
              "      <script>\n",
              "        const buttonEl =\n",
              "          document.querySelector('#df-5b8eb699-6ee6-4467-a7ec-5a267bb7eef8 button.colab-df-convert');\n",
              "        buttonEl.style.display =\n",
              "          google.colab.kernel.accessAllowed ? 'block' : 'none';\n",
              "\n",
              "        async function convertToInteractive(key) {\n",
              "          const element = document.querySelector('#df-5b8eb699-6ee6-4467-a7ec-5a267bb7eef8');\n",
              "          const dataTable =\n",
              "            await google.colab.kernel.invokeFunction('convertToInteractive',\n",
              "                                                     [key], {});\n",
              "          if (!dataTable) return;\n",
              "\n",
              "          const docLinkHtml = 'Like what you see? Visit the ' +\n",
              "            '<a target=\"_blank\" href=https://colab.research.google.com/notebooks/data_table.ipynb>data table notebook</a>'\n",
              "            + ' to learn more about interactive tables.';\n",
              "          element.innerHTML = '';\n",
              "          dataTable['output_type'] = 'display_data';\n",
              "          await google.colab.output.renderOutput(dataTable, element);\n",
              "          const docLink = document.createElement('div');\n",
              "          docLink.innerHTML = docLinkHtml;\n",
              "          element.appendChild(docLink);\n",
              "        }\n",
              "      </script>\n",
              "    </div>\n",
              "  </div>\n",
              "  "
            ],
            "text/plain": [
              "                                            Messedge  Lengh\n",
              "0  We are fighting against armies and tanks, we d...    184\n",
              "1  Russia is deliberately and continuously destro...    228\n",
              "2  Ukraine brush with brand new naZis under the f...    244\n",
              "3  Don't let Russia hurt our people. We call to #...    192"
            ]
          },
          "metadata": {},
          "execution_count": 14
        }
      ],
      "source": [
        "content = load_doc(CONTENT)\n",
        "content"
      ]
    },
    {
      "cell_type": "code",
      "execution_count": 15,
      "metadata": {
        "id": "Idj3Cbs0Yg3v"
      },
      "outputs": [],
      "source": [
        "# Довжина твіта не повинна перевищувати 280 знаків\n",
        "messeges = [m for m in content[\"Messedge\"].to_list() if len(m)<=280]"
      ]
    },
    {
      "cell_type": "markdown",
      "metadata": {
        "id": "1oIwSipdtCBa"
      },
      "source": [
        "##Test tweet##"
      ]
    },
    {
      "cell_type": "code",
      "execution_count": 16,
      "metadata": {
        "id": "Qvm2J7hne15Q"
      },
      "outputs": [],
      "source": [
        "def add_comment(user, status, media):\n",
        "    #останній твіт цільового користувача, який будемо коментувати\n",
        "    last_tweet = api.user_timeline(screen_name=user, count=1, include_rts=False, tweet_mode=\"extended\")[0]\n",
        "\n",
        "    #створюємо повідомлення та додаємо фото\n",
        "    api.update_status(\n",
        "                      status=status, \n",
        "                      in_reply_to_status_id=last_tweet.id, \n",
        "                      media_ids=[media]\n",
        "    )"
      ]
    },
    {
      "cell_type": "code",
      "execution_count": 17,
      "metadata": {
        "id": "sM0-rv_vfB1L"
      },
      "outputs": [],
      "source": [
        "user = \"jiztastamablast\" # тестуємо на собі. пишемо свій нік\n",
        "status= \"!!!\" #  комент\n",
        "media = random.choice(imgs).media_id # рандомне фото"
      ]
    },
    {
      "cell_type": "code",
      "execution_count": 18,
      "metadata": {
        "id": "HFbNcmsAtIH7",
        "colab": {
          "base_uri": "https://localhost:8080/"
        },
        "outputId": "c49ced38-0145-4943-9bf3-4d1f9c9a2a94"
      },
      "outputs": [
        {
          "output_type": "execute_result",
          "data": {
            "text/plain": [
              "Status(_api=<tweepy.api.API object at 0x7f694b759a10>, _json={'created_at': 'Tue Mar 08 14:22:06 +0000 2022', 'id': 1501201597896048640, 'id_str': '1501201597896048640', 'text': '! https://t.co/5jeyOtwsKg', 'truncated': False, 'entities': {'hashtags': [], 'symbols': [], 'user_mentions': [], 'urls': [], 'media': [{'id': 1501201562487734285, 'id_str': '1501201562487734285', 'indices': [2, 25], 'media_url': 'http://pbs.twimg.com/media/FNVW3gxXwA0F93r.jpg', 'media_url_https': 'https://pbs.twimg.com/media/FNVW3gxXwA0F93r.jpg', 'url': 'https://t.co/5jeyOtwsKg', 'display_url': 'pic.twitter.com/5jeyOtwsKg', 'expanded_url': 'https://twitter.com/jiztastamablast/status/1501201597896048640/photo/1', 'type': 'photo', 'sizes': {'large': {'w': 1125, 'h': 2000, 'resize': 'fit'}, 'thumb': {'w': 150, 'h': 150, 'resize': 'crop'}, 'small': {'w': 383, 'h': 680, 'resize': 'fit'}, 'medium': {'w': 675, 'h': 1200, 'resize': 'fit'}}}]}, 'extended_entities': {'media': [{'id': 1501201562487734285, 'id_str': '1501201562487734285', 'indices': [2, 25], 'media_url': 'http://pbs.twimg.com/media/FNVW3gxXwA0F93r.jpg', 'media_url_https': 'https://pbs.twimg.com/media/FNVW3gxXwA0F93r.jpg', 'url': 'https://t.co/5jeyOtwsKg', 'display_url': 'pic.twitter.com/5jeyOtwsKg', 'expanded_url': 'https://twitter.com/jiztastamablast/status/1501201597896048640/photo/1', 'type': 'photo', 'sizes': {'large': {'w': 1125, 'h': 2000, 'resize': 'fit'}, 'thumb': {'w': 150, 'h': 150, 'resize': 'crop'}, 'small': {'w': 383, 'h': 680, 'resize': 'fit'}, 'medium': {'w': 675, 'h': 1200, 'resize': 'fit'}}}]}, 'source': '<a href=\"https://developer.twitter.com/en/docs/authentication/oauth-1-0a\" rel=\"nofollow\">BushyLion</a>', 'in_reply_to_status_id': None, 'in_reply_to_status_id_str': None, 'in_reply_to_user_id': None, 'in_reply_to_user_id_str': None, 'in_reply_to_screen_name': None, 'user': {'id': 3033202661, 'id_str': '3033202661', 'name': 'Bushy Lion', 'screen_name': 'jiztastamablast', 'location': 'Kyiv, Ukraine', 'description': 'Hakuna Matata', 'url': None, 'entities': {'description': {'urls': []}}, 'protected': False, 'followers_count': 2, 'friends_count': 6, 'listed_count': 2, 'created_at': 'Thu Feb 12 18:51:35 +0000 2015', 'favourites_count': 7, 'utc_offset': None, 'time_zone': None, 'geo_enabled': True, 'verified': False, 'statuses_count': 648, 'lang': None, 'contributors_enabled': False, 'is_translator': False, 'is_translation_enabled': False, 'profile_background_color': 'C0DEED', 'profile_background_image_url': 'http://abs.twimg.com/images/themes/theme1/bg.png', 'profile_background_image_url_https': 'https://abs.twimg.com/images/themes/theme1/bg.png', 'profile_background_tile': False, 'profile_image_url': 'http://pbs.twimg.com/profile_images/1500423536778747909/T8ZHgn9p_normal.jpg', 'profile_image_url_https': 'https://pbs.twimg.com/profile_images/1500423536778747909/T8ZHgn9p_normal.jpg', 'profile_link_color': '1DA1F2', 'profile_sidebar_border_color': 'C0DEED', 'profile_sidebar_fill_color': 'DDEEF6', 'profile_text_color': '333333', 'profile_use_background_image': True, 'has_extended_profile': False, 'default_profile': True, 'default_profile_image': False, 'following': False, 'follow_request_sent': False, 'notifications': False, 'translator_type': 'none', 'withheld_in_countries': []}, 'geo': None, 'coordinates': None, 'place': None, 'contributors': None, 'is_quote_status': False, 'retweet_count': 0, 'favorite_count': 0, 'favorited': False, 'retweeted': False, 'possibly_sensitive': False, 'lang': 'und'}, created_at=datetime.datetime(2022, 3, 8, 14, 22, 6), id=1501201597896048640, id_str='1501201597896048640', text='! https://t.co/5jeyOtwsKg', truncated=False, entities={'hashtags': [], 'symbols': [], 'user_mentions': [], 'urls': [], 'media': [{'id': 1501201562487734285, 'id_str': '1501201562487734285', 'indices': [2, 25], 'media_url': 'http://pbs.twimg.com/media/FNVW3gxXwA0F93r.jpg', 'media_url_https': 'https://pbs.twimg.com/media/FNVW3gxXwA0F93r.jpg', 'url': 'https://t.co/5jeyOtwsKg', 'display_url': 'pic.twitter.com/5jeyOtwsKg', 'expanded_url': 'https://twitter.com/jiztastamablast/status/1501201597896048640/photo/1', 'type': 'photo', 'sizes': {'large': {'w': 1125, 'h': 2000, 'resize': 'fit'}, 'thumb': {'w': 150, 'h': 150, 'resize': 'crop'}, 'small': {'w': 383, 'h': 680, 'resize': 'fit'}, 'medium': {'w': 675, 'h': 1200, 'resize': 'fit'}}}]}, extended_entities={'media': [{'id': 1501201562487734285, 'id_str': '1501201562487734285', 'indices': [2, 25], 'media_url': 'http://pbs.twimg.com/media/FNVW3gxXwA0F93r.jpg', 'media_url_https': 'https://pbs.twimg.com/media/FNVW3gxXwA0F93r.jpg', 'url': 'https://t.co/5jeyOtwsKg', 'display_url': 'pic.twitter.com/5jeyOtwsKg', 'expanded_url': 'https://twitter.com/jiztastamablast/status/1501201597896048640/photo/1', 'type': 'photo', 'sizes': {'large': {'w': 1125, 'h': 2000, 'resize': 'fit'}, 'thumb': {'w': 150, 'h': 150, 'resize': 'crop'}, 'small': {'w': 383, 'h': 680, 'resize': 'fit'}, 'medium': {'w': 675, 'h': 1200, 'resize': 'fit'}}}]}, source='BushyLion', source_url='https://developer.twitter.com/en/docs/authentication/oauth-1-0a', in_reply_to_status_id=None, in_reply_to_status_id_str=None, in_reply_to_user_id=None, in_reply_to_user_id_str=None, in_reply_to_screen_name=None, author=User(_api=<tweepy.api.API object at 0x7f694b759a10>, _json={'id': 3033202661, 'id_str': '3033202661', 'name': 'Bushy Lion', 'screen_name': 'jiztastamablast', 'location': 'Kyiv, Ukraine', 'description': 'Hakuna Matata', 'url': None, 'entities': {'description': {'urls': []}}, 'protected': False, 'followers_count': 2, 'friends_count': 6, 'listed_count': 2, 'created_at': 'Thu Feb 12 18:51:35 +0000 2015', 'favourites_count': 7, 'utc_offset': None, 'time_zone': None, 'geo_enabled': True, 'verified': False, 'statuses_count': 648, 'lang': None, 'contributors_enabled': False, 'is_translator': False, 'is_translation_enabled': False, 'profile_background_color': 'C0DEED', 'profile_background_image_url': 'http://abs.twimg.com/images/themes/theme1/bg.png', 'profile_background_image_url_https': 'https://abs.twimg.com/images/themes/theme1/bg.png', 'profile_background_tile': False, 'profile_image_url': 'http://pbs.twimg.com/profile_images/1500423536778747909/T8ZHgn9p_normal.jpg', 'profile_image_url_https': 'https://pbs.twimg.com/profile_images/1500423536778747909/T8ZHgn9p_normal.jpg', 'profile_link_color': '1DA1F2', 'profile_sidebar_border_color': 'C0DEED', 'profile_sidebar_fill_color': 'DDEEF6', 'profile_text_color': '333333', 'profile_use_background_image': True, 'has_extended_profile': False, 'default_profile': True, 'default_profile_image': False, 'following': False, 'follow_request_sent': False, 'notifications': False, 'translator_type': 'none', 'withheld_in_countries': []}, id=3033202661, id_str='3033202661', name='Bushy Lion', screen_name='jiztastamablast', location='Kyiv, Ukraine', description='Hakuna Matata', url=None, entities={'description': {'urls': []}}, protected=False, followers_count=2, friends_count=6, listed_count=2, created_at=datetime.datetime(2015, 2, 12, 18, 51, 35), favourites_count=7, utc_offset=None, time_zone=None, geo_enabled=True, verified=False, statuses_count=648, lang=None, contributors_enabled=False, is_translator=False, is_translation_enabled=False, profile_background_color='C0DEED', profile_background_image_url='http://abs.twimg.com/images/themes/theme1/bg.png', profile_background_image_url_https='https://abs.twimg.com/images/themes/theme1/bg.png', profile_background_tile=False, profile_image_url='http://pbs.twimg.com/profile_images/1500423536778747909/T8ZHgn9p_normal.jpg', profile_image_url_https='https://pbs.twimg.com/profile_images/1500423536778747909/T8ZHgn9p_normal.jpg', profile_link_color='1DA1F2', profile_sidebar_border_color='C0DEED', profile_sidebar_fill_color='DDEEF6', profile_text_color='333333', profile_use_background_image=True, has_extended_profile=False, default_profile=True, default_profile_image=False, following=False, follow_request_sent=False, notifications=False, translator_type='none', withheld_in_countries=[]), user=User(_api=<tweepy.api.API object at 0x7f694b759a10>, _json={'id': 3033202661, 'id_str': '3033202661', 'name': 'Bushy Lion', 'screen_name': 'jiztastamablast', 'location': 'Kyiv, Ukraine', 'description': 'Hakuna Matata', 'url': None, 'entities': {'description': {'urls': []}}, 'protected': False, 'followers_count': 2, 'friends_count': 6, 'listed_count': 2, 'created_at': 'Thu Feb 12 18:51:35 +0000 2015', 'favourites_count': 7, 'utc_offset': None, 'time_zone': None, 'geo_enabled': True, 'verified': False, 'statuses_count': 648, 'lang': None, 'contributors_enabled': False, 'is_translator': False, 'is_translation_enabled': False, 'profile_background_color': 'C0DEED', 'profile_background_image_url': 'http://abs.twimg.com/images/themes/theme1/bg.png', 'profile_background_image_url_https': 'https://abs.twimg.com/images/themes/theme1/bg.png', 'profile_background_tile': False, 'profile_image_url': 'http://pbs.twimg.com/profile_images/1500423536778747909/T8ZHgn9p_normal.jpg', 'profile_image_url_https': 'https://pbs.twimg.com/profile_images/1500423536778747909/T8ZHgn9p_normal.jpg', 'profile_link_color': '1DA1F2', 'profile_sidebar_border_color': 'C0DEED', 'profile_sidebar_fill_color': 'DDEEF6', 'profile_text_color': '333333', 'profile_use_background_image': True, 'has_extended_profile': False, 'default_profile': True, 'default_profile_image': False, 'following': False, 'follow_request_sent': False, 'notifications': False, 'translator_type': 'none', 'withheld_in_countries': []}, id=3033202661, id_str='3033202661', name='Bushy Lion', screen_name='jiztastamablast', location='Kyiv, Ukraine', description='Hakuna Matata', url=None, entities={'description': {'urls': []}}, protected=False, followers_count=2, friends_count=6, listed_count=2, created_at=datetime.datetime(2015, 2, 12, 18, 51, 35), favourites_count=7, utc_offset=None, time_zone=None, geo_enabled=True, verified=False, statuses_count=648, lang=None, contributors_enabled=False, is_translator=False, is_translation_enabled=False, profile_background_color='C0DEED', profile_background_image_url='http://abs.twimg.com/images/themes/theme1/bg.png', profile_background_image_url_https='https://abs.twimg.com/images/themes/theme1/bg.png', profile_background_tile=False, profile_image_url='http://pbs.twimg.com/profile_images/1500423536778747909/T8ZHgn9p_normal.jpg', profile_image_url_https='https://pbs.twimg.com/profile_images/1500423536778747909/T8ZHgn9p_normal.jpg', profile_link_color='1DA1F2', profile_sidebar_border_color='C0DEED', profile_sidebar_fill_color='DDEEF6', profile_text_color='333333', profile_use_background_image=True, has_extended_profile=False, default_profile=True, default_profile_image=False, following=False, follow_request_sent=False, notifications=False, translator_type='none', withheld_in_countries=[]), geo=None, coordinates=None, place=None, contributors=None, is_quote_status=False, retweet_count=0, favorite_count=0, favorited=False, retweeted=False, possibly_sensitive=False, lang='und')"
            ]
          },
          "metadata": {},
          "execution_count": 18
        }
      ],
      "source": [
        "api.update_status(status=\"!\", media_ids=[random.choice(imgs).media_id]) "
      ]
    },
    {
      "cell_type": "code",
      "execution_count": 19,
      "metadata": {
        "id": "RTDk0LvifOU6"
      },
      "outputs": [],
      "source": [
        "add_comment(user, status, media)"
      ]
    },
    {
      "cell_type": "markdown",
      "metadata": {
        "id": "xa5JXYY60_PJ"
      },
      "source": [
        "##Users##"
      ]
    },
    {
      "cell_type": "code",
      "execution_count": 39,
      "metadata": {
        "colab": {
          "base_uri": "https://localhost:8080/",
          "height": 423
        },
        "id": "oX5E20WK0CmZ",
        "outputId": "907675d1-8c4f-4f0c-ee15-b6ac97d79346"
      },
      "outputs": [
        {
          "output_type": "execute_result",
          "data": {
            "text/html": [
              "\n",
              "  <div id=\"df-0e957719-b954-4bd8-a076-88417cef7c88\">\n",
              "    <div class=\"colab-df-container\">\n",
              "      <div>\n",
              "<style scoped>\n",
              "    .dataframe tbody tr th:only-of-type {\n",
              "        vertical-align: middle;\n",
              "    }\n",
              "\n",
              "    .dataframe tbody tr th {\n",
              "        vertical-align: top;\n",
              "    }\n",
              "\n",
              "    .dataframe thead th {\n",
              "        text-align: right;\n",
              "    }\n",
              "</style>\n",
              "<table border=\"1\" class=\"dataframe\">\n",
              "  <thead>\n",
              "    <tr style=\"text-align: right;\">\n",
              "      <th></th>\n",
              "      <th>State</th>\n",
              "      <th>Member of Congress</th>\n",
              "      <th>Name</th>\n",
              "      <th>Party</th>\n",
              "      <th>Twitter</th>\n",
              "      <th>TwitterNickname</th>\n",
              "    </tr>\n",
              "  </thead>\n",
              "  <tbody>\n",
              "    <tr>\n",
              "      <th>0</th>\n",
              "      <td>California 12th District</td>\n",
              "      <td>U.S. Representative</td>\n",
              "      <td>Pelosi, Nancy</td>\n",
              "      <td>D</td>\n",
              "      <td>@SpeakerPelosi</td>\n",
              "      <td>SpeakerPelosi</td>\n",
              "    </tr>\n",
              "    <tr>\n",
              "      <th>1</th>\n",
              "      <td>California 23rd District</td>\n",
              "      <td>U.S. Representative</td>\n",
              "      <td>McCarthy, Kevin</td>\n",
              "      <td>R</td>\n",
              "      <td>@GOPLeader</td>\n",
              "      <td>GOPLeader</td>\n",
              "    </tr>\n",
              "    <tr>\n",
              "      <th>2</th>\n",
              "      <td>New York 5th District</td>\n",
              "      <td>U.S. Representative</td>\n",
              "      <td>Meeks, Gregory W.</td>\n",
              "      <td>D</td>\n",
              "      <td>@RepGregoryMeeks</td>\n",
              "      <td>RepGregoryMeeks</td>\n",
              "    </tr>\n",
              "    <tr>\n",
              "      <th>3</th>\n",
              "      <td>New Jersey 4th District</td>\n",
              "      <td>U.S. Representative</td>\n",
              "      <td>Smith, Chris</td>\n",
              "      <td>R</td>\n",
              "      <td>@RepChrisSmith</td>\n",
              "      <td>RepChrisSmith</td>\n",
              "    </tr>\n",
              "    <tr>\n",
              "      <th>4</th>\n",
              "      <td>Arizona 4th District</td>\n",
              "      <td>U.S. Representative</td>\n",
              "      <td>Gosar, Paul A.</td>\n",
              "      <td>R</td>\n",
              "      <td>@RepGosar</td>\n",
              "      <td>RepGosar</td>\n",
              "    </tr>\n",
              "    <tr>\n",
              "      <th>...</th>\n",
              "      <td>...</td>\n",
              "      <td>...</td>\n",
              "      <td>...</td>\n",
              "      <td>...</td>\n",
              "      <td>...</td>\n",
              "      <td>...</td>\n",
              "    </tr>\n",
              "    <tr>\n",
              "      <th>85</th>\n",
              "      <td>Utah</td>\n",
              "      <td>U.S. Senator</td>\n",
              "      <td>Lee, Mike</td>\n",
              "      <td>R</td>\n",
              "      <td>@SenMikeLee</td>\n",
              "      <td>SenMikeLee</td>\n",
              "    </tr>\n",
              "    <tr>\n",
              "      <th>86</th>\n",
              "      <td>Utah</td>\n",
              "      <td>U.S. Senator</td>\n",
              "      <td>Romney, Mitt</td>\n",
              "      <td>R</td>\n",
              "      <td>@SenatorRomney</td>\n",
              "      <td>SenatorRomney</td>\n",
              "    </tr>\n",
              "    <tr>\n",
              "      <th>87</th>\n",
              "      <td>West Virginia</td>\n",
              "      <td>U.S. Senator</td>\n",
              "      <td>Manchin, Joe</td>\n",
              "      <td>D</td>\n",
              "      <td>@Sen_JoeManchin</td>\n",
              "      <td>Sen_JoeManchin</td>\n",
              "    </tr>\n",
              "    <tr>\n",
              "      <th>88</th>\n",
              "      <td>Wisconsin</td>\n",
              "      <td>U.S. Senator</td>\n",
              "      <td>Johnson, Ron</td>\n",
              "      <td>R</td>\n",
              "      <td>@SenRonJohnson</td>\n",
              "      <td>SenRonJohnson</td>\n",
              "    </tr>\n",
              "    <tr>\n",
              "      <th>89</th>\n",
              "      <td>Wisconsin</td>\n",
              "      <td>U.S. Senator</td>\n",
              "      <td>Baldwin, Tammy</td>\n",
              "      <td>D</td>\n",
              "      <td>@SenatorBaldwin</td>\n",
              "      <td>SenatorBaldwin</td>\n",
              "    </tr>\n",
              "  </tbody>\n",
              "</table>\n",
              "<p>90 rows × 6 columns</p>\n",
              "</div>\n",
              "      <button class=\"colab-df-convert\" onclick=\"convertToInteractive('df-0e957719-b954-4bd8-a076-88417cef7c88')\"\n",
              "              title=\"Convert this dataframe to an interactive table.\"\n",
              "              style=\"display:none;\">\n",
              "        \n",
              "  <svg xmlns=\"http://www.w3.org/2000/svg\" height=\"24px\"viewBox=\"0 0 24 24\"\n",
              "       width=\"24px\">\n",
              "    <path d=\"M0 0h24v24H0V0z\" fill=\"none\"/>\n",
              "    <path d=\"M18.56 5.44l.94 2.06.94-2.06 2.06-.94-2.06-.94-.94-2.06-.94 2.06-2.06.94zm-11 1L8.5 8.5l.94-2.06 2.06-.94-2.06-.94L8.5 2.5l-.94 2.06-2.06.94zm10 10l.94 2.06.94-2.06 2.06-.94-2.06-.94-.94-2.06-.94 2.06-2.06.94z\"/><path d=\"M17.41 7.96l-1.37-1.37c-.4-.4-.92-.59-1.43-.59-.52 0-1.04.2-1.43.59L10.3 9.45l-7.72 7.72c-.78.78-.78 2.05 0 2.83L4 21.41c.39.39.9.59 1.41.59.51 0 1.02-.2 1.41-.59l7.78-7.78 2.81-2.81c.8-.78.8-2.07 0-2.86zM5.41 20L4 18.59l7.72-7.72 1.47 1.35L5.41 20z\"/>\n",
              "  </svg>\n",
              "      </button>\n",
              "      \n",
              "  <style>\n",
              "    .colab-df-container {\n",
              "      display:flex;\n",
              "      flex-wrap:wrap;\n",
              "      gap: 12px;\n",
              "    }\n",
              "\n",
              "    .colab-df-convert {\n",
              "      background-color: #E8F0FE;\n",
              "      border: none;\n",
              "      border-radius: 50%;\n",
              "      cursor: pointer;\n",
              "      display: none;\n",
              "      fill: #1967D2;\n",
              "      height: 32px;\n",
              "      padding: 0 0 0 0;\n",
              "      width: 32px;\n",
              "    }\n",
              "\n",
              "    .colab-df-convert:hover {\n",
              "      background-color: #E2EBFA;\n",
              "      box-shadow: 0px 1px 2px rgba(60, 64, 67, 0.3), 0px 1px 3px 1px rgba(60, 64, 67, 0.15);\n",
              "      fill: #174EA6;\n",
              "    }\n",
              "\n",
              "    [theme=dark] .colab-df-convert {\n",
              "      background-color: #3B4455;\n",
              "      fill: #D2E3FC;\n",
              "    }\n",
              "\n",
              "    [theme=dark] .colab-df-convert:hover {\n",
              "      background-color: #434B5C;\n",
              "      box-shadow: 0px 1px 3px 1px rgba(0, 0, 0, 0.15);\n",
              "      filter: drop-shadow(0px 1px 2px rgba(0, 0, 0, 0.3));\n",
              "      fill: #FFFFFF;\n",
              "    }\n",
              "  </style>\n",
              "\n",
              "      <script>\n",
              "        const buttonEl =\n",
              "          document.querySelector('#df-0e957719-b954-4bd8-a076-88417cef7c88 button.colab-df-convert');\n",
              "        buttonEl.style.display =\n",
              "          google.colab.kernel.accessAllowed ? 'block' : 'none';\n",
              "\n",
              "        async function convertToInteractive(key) {\n",
              "          const element = document.querySelector('#df-0e957719-b954-4bd8-a076-88417cef7c88');\n",
              "          const dataTable =\n",
              "            await google.colab.kernel.invokeFunction('convertToInteractive',\n",
              "                                                     [key], {});\n",
              "          if (!dataTable) return;\n",
              "\n",
              "          const docLinkHtml = 'Like what you see? Visit the ' +\n",
              "            '<a target=\"_blank\" href=https://colab.research.google.com/notebooks/data_table.ipynb>data table notebook</a>'\n",
              "            + ' to learn more about interactive tables.';\n",
              "          element.innerHTML = '';\n",
              "          dataTable['output_type'] = 'display_data';\n",
              "          await google.colab.output.renderOutput(dataTable, element);\n",
              "          const docLink = document.createElement('div');\n",
              "          docLink.innerHTML = docLinkHtml;\n",
              "          element.appendChild(docLink);\n",
              "        }\n",
              "      </script>\n",
              "    </div>\n",
              "  </div>\n",
              "  "
            ],
            "text/plain": [
              "                       State   Member of Congress               Name Party  \\\n",
              "0   California 12th District  U.S. Representative      Pelosi, Nancy     D   \n",
              "1   California 23rd District  U.S. Representative    McCarthy, Kevin     R   \n",
              "2      New York 5th District  U.S. Representative  Meeks, Gregory W.     D   \n",
              "3    New Jersey 4th District  U.S. Representative       Smith, Chris     R   \n",
              "4       Arizona 4th District  U.S. Representative     Gosar, Paul A.     R   \n",
              "..                       ...                  ...                ...   ...   \n",
              "85                      Utah         U.S. Senator          Lee, Mike     R   \n",
              "86                      Utah         U.S. Senator       Romney, Mitt     R   \n",
              "87             West Virginia         U.S. Senator       Manchin, Joe     D   \n",
              "88                 Wisconsin         U.S. Senator       Johnson, Ron     R   \n",
              "89                 Wisconsin         U.S. Senator     Baldwin, Tammy     D   \n",
              "\n",
              "             Twitter  TwitterNickname  \n",
              "0     @SpeakerPelosi    SpeakerPelosi  \n",
              "1         @GOPLeader        GOPLeader  \n",
              "2   @RepGregoryMeeks  RepGregoryMeeks  \n",
              "3     @RepChrisSmith    RepChrisSmith  \n",
              "4          @RepGosar         RepGosar  \n",
              "..               ...              ...  \n",
              "85       @SenMikeLee       SenMikeLee  \n",
              "86    @SenatorRomney    SenatorRomney  \n",
              "87   @Sen_JoeManchin   Sen_JoeManchin  \n",
              "88    @SenRonJohnson    SenRonJohnson  \n",
              "89   @SenatorBaldwin   SenatorBaldwin  \n",
              "\n",
              "[90 rows x 6 columns]"
            ]
          },
          "metadata": {},
          "execution_count": 39
        }
      ],
      "source": [
        "users = load_doc(USERS)\n",
        "try:\n",
        "  users[\"TwitterNickname\"] = users[\"Twitter\"].str.replace(\"https://twitter.com/\", \"\", regex=False).str.replace(\"@\", \"\", regex=False)\n",
        "except:\n",
        "  pass\n",
        "#прибираємо нульові строки\n",
        "users.dropna(subset=[\"TwitterNickname\"], inplace=True)\n",
        "users"
      ]
    },
    {
      "cell_type": "code",
      "execution_count": null,
      "metadata": {
        "id": "f4rAjSUEgrjx"
      },
      "outputs": [],
      "source": [
        "# users.info()"
      ]
    },
    {
      "cell_type": "markdown",
      "metadata": {
        "id": "_WOTQH1ZIVIV"
      },
      "source": [
        "##Sturm##"
      ]
    },
    {
      "cell_type": "code",
      "execution_count": 40,
      "metadata": {
        "id": "s080kvBOInBb",
        "colab": {
          "base_uri": "https://localhost:8080/"
        },
        "outputId": "148ffa9c-66b5-483b-aeb5-5a4dcc2e1a6c"
      },
      "outputs": [
        {
          "output_type": "stream",
          "name": "stdout",
          "text": [
            "Not authorized.\n",
            "error sending comment to user: RepChrisSmith\n",
            "[{'code': 34, 'message': 'Sorry, that page does not exist.'}]\n",
            "error sending comment to user: RepThomasMassi\n",
            "Not authorized.\n",
            "error sending comment to user: mtgreenee\n",
            "[{'code': 187, 'message': 'Status is a duplicate.'}]\n",
            "error sending comment to user: JoaquinCastrotx\n"
          ]
        }
      ],
      "source": [
        "bad_user = []\n",
        "\n",
        "for user in users[\"TwitterNickname\"].to_list():\n",
        "  try:\n",
        "    # обираємо рандомні повідомлення та фото\n",
        "    status= random.choice(messeges)\n",
        "    media = random.choice(imgs).media_id\n",
        "\n",
        "    # додаємо комент\n",
        "    add_comment(user, status, media)\n",
        "\n",
        "  except tweepy.TweepError as error:\n",
        "    if error.api_code == 185:\n",
        "      print(\"Перевищено ліміт 300 повідомельнь за 3 години. Чекаємо...\")\n",
        "      time.sleep(3*60*60)\n",
        "    else:\n",
        "      print(error)\n",
        "      print(f\"error sending comment to user: {user}\")\n",
        "\n",
        "    bad_user.append(user)\n"
      ]
    },
    {
      "cell_type": "code",
      "source": [
        "bad_user"
      ],
      "metadata": {
        "colab": {
          "base_uri": "https://localhost:8080/"
        },
        "id": "qeSb8YHg8o9R",
        "outputId": "dde6c41f-45f2-4130-e9ce-7f6030192b17"
      },
      "execution_count": 41,
      "outputs": [
        {
          "output_type": "execute_result",
          "data": {
            "text/plain": [
              "['RepChrisSmith', 'RepThomasMassi', 'mtgreenee', 'JoaquinCastrotx']"
            ]
          },
          "metadata": {},
          "execution_count": 41
        }
      ]
    }
  ],
  "metadata": {
    "colab": {
      "collapsed_sections": [],
      "name": "TwitterSturm.ipynb",
      "provenance": [],
      "authorship_tag": "ABX9TyPOieVqePd6V1IROQ9+W90H",
      "include_colab_link": true
    },
    "kernelspec": {
      "display_name": "Python 3",
      "name": "python3"
    },
    "language_info": {
      "name": "python"
    }
  },
  "nbformat": 4,
  "nbformat_minor": 0
}