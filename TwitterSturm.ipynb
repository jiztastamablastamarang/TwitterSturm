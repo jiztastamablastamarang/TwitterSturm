{
  "cells": [
    {
      "cell_type": "markdown",
      "metadata": {
        "id": "view-in-github",
        "colab_type": "text"
      },
      "source": [
        "<a href=\"https://colab.research.google.com/github/jiztastamablastamarang/TwitterSturm/blob/main/TwitterSturm.ipynb\" target=\"_parent\"><img src=\"https://colab.research.google.com/assets/colab-badge.svg\" alt=\"Open In Colab\"/></a>"
      ]
    },
    {
      "cell_type": "markdown",
      "source": [
        "###CTRL + F9 Щоб запустити весь код, або Runtime => Run all###"
      ],
      "metadata": {
        "id": "ok9pmhgiZyed"
      }
    },
    {
      "cell_type": "markdown",
      "metadata": {
        "id": "4dMChOR62WtO"
      },
      "source": [
        "\n",
        "##Credentials##\n",
        "Реєструємо API Twitter та створюємо додаток з можливістю читати та писати повідомлення. Після цього буде згенеровано подібні ключі доступу"
      ]
    },
    {
      "cell_type": "code",
      "execution_count": 1,
      "metadata": {
        "id": "wppQe8Iw2XdG"
      },
      "outputs": [],
      "source": [
        "KEY = \"\"\n",
        "SECRET = \"\"\n",
        "TOKEN = \"\"\n",
        "TOKEN_SECRET = \"\""
      ]
    },
    {
      "cell_type": "markdown",
      "metadata": {
        "id": "68O1BswnG8lb"
      },
      "source": [
        "##Docs##\n",
        "Гуглодоки зі списком користувачей, фото, контентом"
      ]
    },
    {
      "cell_type": "code",
      "execution_count": 2,
      "metadata": {
        "id": "34toM6rlHAWz"
      },
      "outputs": [],
      "source": [
        "USERS = \"https://docs.google.com/spreadsheets/d/1uUF6WGtFl-WBPe_oLdk4gdgFp09aPOAekBWmHdIUnC0/edit#gid=0\"\n",
        "IMGS = \"https://drive.google.com/drive/folders/1V7YZjkovjvvJAoTBEpAGp4VwlRWdneXA\" # директорія з фото\n",
        "# IMGS = \"https://docs.google.com/spreadsheets/d/1TmQXycbTh7EsgArWT2mqUfQRPXBmidxZB5lsmyFfnRQ/edit#gid=0\" #або URL з фото\n",
        "CONTENT = \"https://docs.google.com/spreadsheets/d/1dsdTocyIgQpJYrBLnjxBl9e3Bdw65vAWmpBPorzLlrI/edit#gid=0\""
      ]
    },
    {
      "cell_type": "code",
      "execution_count": 3,
      "metadata": {
        "id": "ECq5S8eTu22Z"
      },
      "outputs": [],
      "source": [
        "def load_doc(url):\n",
        "  return pd.read_csv(url.replace(\"/edit#gid=\", \"/export?format=csv&gid=\"))"
      ]
    },
    {
      "cell_type": "markdown",
      "metadata": {
        "id": "EmD9zDNlFpcq"
      },
      "source": [
        "##Modules##"
      ]
    },
    {
      "cell_type": "code",
      "execution_count": 4,
      "metadata": {
        "id": "BXZO1rDQ-l5Z"
      },
      "outputs": [],
      "source": [
        "import tweepy\n",
        "import pandas as pd\n",
        "import requests\n",
        "import os\n",
        "import glob\n",
        "import random\n",
        "import shutil\n",
        "import time\n",
        "\n",
        "from pydrive.auth import GoogleAuth\n",
        "from pydrive.drive import GoogleDrive\n",
        "from google.colab import auth\n",
        "from oauth2client.client import GoogleCredentials"
      ]
    },
    {
      "cell_type": "code",
      "execution_count": 5,
      "metadata": {
        "id": "XIkHcd5Sh-I4"
      },
      "outputs": [],
      "source": [
        "!pip install -U -q PyDrive"
      ]
    },
    {
      "cell_type": "markdown",
      "metadata": {
        "id": "SZU_ewNTujCQ"
      },
      "source": [
        "##API##"
      ]
    },
    {
      "cell_type": "code",
      "execution_count": 6,
      "metadata": {
        "id": "s1fkMqVX25_b"
      },
      "outputs": [],
      "source": [
        "def swad():\n",
        "  auth = tweepy.OAuthHandler(KEY, SECRET)\n",
        "  auth.set_access_token(TOKEN, TOKEN_SECRET)\n",
        "  api = tweepy.API(auth, \n",
        "                   wait_on_rate_limit=True, \n",
        "                   wait_on_rate_limit_notify=True)\n",
        "  try:\n",
        "      api.verify_credentials()\n",
        "  except:\n",
        "      print(\"ups!\")\n",
        "  return api\n",
        "  \n",
        "api = swad()"
      ]
    },
    {
      "cell_type": "markdown",
      "metadata": {
        "id": "efbNPzhA7ARf"
      },
      "source": [
        "##Images##"
      ]
    },
    {
      "cell_type": "code",
      "execution_count": 7,
      "metadata": {
        "id": "j77fFEsZAEi4"
      },
      "outputs": [],
      "source": [
        "# images = load_doc(IMGS)\n",
        "\n",
        "# def load_img(url):\n",
        "#   file_name = \"new.jpg\"\n",
        "#   request = requests.get(url, stream=True)\n",
        "#   if request.status_code==200:\n",
        "#     with open(file_name, \"wb\") as file:\n",
        "#       for chunk in request:\n",
        "#         file.write(chunk)\n",
        "#       media = api.media_upload(file_name)\n",
        "#       os.remove(file_name)\n",
        "#       return media\n",
        "#   else:\n",
        "#     print(\"ups!\")\n",
        "\n",
        "# imgs = []\n",
        "# for url in images[\"URL\"]:\n",
        "#     imgs.append(load_img(url))"
      ]
    },
    {
      "cell_type": "markdown",
      "source": [
        "Тут може вискочити повідомлення про підтвердження дій с гуглодиском. Треба скопійювати відповідний код и нажати enter"
      ],
      "metadata": {
        "id": "lrz6l-U4aH31"
      }
    },
    {
      "cell_type": "code",
      "execution_count": 8,
      "metadata": {
        "colab": {
          "base_uri": "https://localhost:8080/"
        },
        "id": "NFW8NO-DXC9B",
        "outputId": "193aa790-4d8e-4841-daf4-4e1a3ae87b5e"
      },
      "outputs": [
        {
          "output_type": "stream",
          "name": "stdout",
          "text": [
            "uploading: photo_2022-02-25_07-17-45.jpg\n",
            "uploading: photo_2022-02-25_07-17-44.jpg\n",
            "uploading: 27_02_22_Bucha_fire3.jfif\n",
            "uploading: 27.02.22_Троєщина.jpeg\n",
            "uploading: 2022-02-27_Житомир_обстріл.jpg\n",
            "uploading: Бородянка_Після обстрілів.jpg\n",
            "uploading: gettyimages-1238718491.jpg\n",
            "uploading: 275186063_3244844625791550_7558080127054411714_n.jpg\n",
            "uploading: mariupol.jpeg\n",
            "uploading: 274660241_3059356657712999_6548491878968273213_n.jpg\n",
            "uploading: mariupol-2.jpeg\n",
            "uploading: pid-novoju-kahovkoju-okupanti-rozstrilyali-mashinu-miscevih-zhiteliv.jpeg\n",
            "uploading: original.jpg\n",
            "uploading: gettyimages-1238853230.jpg\n",
            "uploading: 274483441_3271747659721513_1428952723540980161_n.jpg\n",
            "uploading: Бородянка після обстрілів.jpg\n",
            "uploading: Харків2.jpg\n",
            "uploading: Kharkivsky Avenue, Kyiv Andriy Dubchak (Donbas Frontliner).jpg\n",
            "uploading: 228485_Harkiv_bombarduvanna_960x380_0.jpg\n",
            "uploading: 19_main.jpg\n",
            "uploading: Cz-8c_NPtMRVO2gwxO_1TVWBl7Osi-SA.jpg\n",
            "uploading: FMg41ReXwAQgTa7.jpg\n",
            "uploading: 24ukraine-briefing-morning-kyiv-01-mobileMasterAt3x (1).jpg\n"
          ]
        }
      ],
      "source": [
        "folder_id = IMGS.split(\"/\")[-1]\n",
        "imgs = []\n",
        "\n",
        "auth.authenticate_user()\n",
        "gauth = GoogleAuth()\n",
        "gauth.credentials = GoogleCredentials.get_application_default()\n",
        "drive = GoogleDrive(gauth)\n",
        "\n",
        "path = \"./temp\"\n",
        "try:\n",
        "    os.makedirs(path)\n",
        "except: pass\n",
        "\n",
        "file_list = drive.ListFile(\n",
        "    {'q': \"'{}' in parents\".format(folder_id)}).GetList()\n",
        "\n",
        "for image in file_list:\n",
        "    fname = os.path.join(path, image[\"title\"])\n",
        "    new_file = drive.CreateFile({\"id\": image[\"id\"]})\n",
        "    new_file.GetContentFile(fname)\n",
        "    print(\"uploading: \" + image[\"title\"])\n",
        "    imgs.append(api.media_upload(os.path.join(\"/content\", \"temp\", image[\"title\"] )))\n",
        "shutil.rmtree(path)"
      ]
    },
    {
      "cell_type": "markdown",
      "metadata": {
        "id": "B3dN5_twPra6"
      },
      "source": [
        "##Content##"
      ]
    },
    {
      "cell_type": "code",
      "execution_count": 9,
      "metadata": {
        "colab": {
          "base_uri": "https://localhost:8080/",
          "height": 394
        },
        "id": "wMa5iyedRRVp",
        "outputId": "f28f4021-8ee8-4b7d-8567-386dc6878266"
      },
      "outputs": [
        {
          "output_type": "execute_result",
          "data": {
            "text/html": [
              "\n",
              "  <div id=\"df-d1c6c691-402b-462a-a73b-b68e54a2f0ec\">\n",
              "    <div class=\"colab-df-container\">\n",
              "      <div>\n",
              "<style scoped>\n",
              "    .dataframe tbody tr th:only-of-type {\n",
              "        vertical-align: middle;\n",
              "    }\n",
              "\n",
              "    .dataframe tbody tr th {\n",
              "        vertical-align: top;\n",
              "    }\n",
              "\n",
              "    .dataframe thead th {\n",
              "        text-align: right;\n",
              "    }\n",
              "</style>\n",
              "<table border=\"1\" class=\"dataframe\">\n",
              "  <thead>\n",
              "    <tr style=\"text-align: right;\">\n",
              "      <th></th>\n",
              "      <th>Messedge</th>\n",
              "      <th>Lengh</th>\n",
              "    </tr>\n",
              "  </thead>\n",
              "  <tbody>\n",
              "    <tr>\n",
              "      <th>0</th>\n",
              "      <td>74% of Americans believe that NATO should #Clo...</td>\n",
              "      <td>250</td>\n",
              "    </tr>\n",
              "    <tr>\n",
              "      <th>1</th>\n",
              "      <td>Since the beginning of the war, hundreds of Ru...</td>\n",
              "      <td>277</td>\n",
              "    </tr>\n",
              "    <tr>\n",
              "      <th>2</th>\n",
              "      <td>We don’t need the “green light” for NATO count...</td>\n",
              "      <td>225</td>\n",
              "    </tr>\n",
              "    <tr>\n",
              "      <th>3</th>\n",
              "      <td>Save the world like you do in the movies! The ...</td>\n",
              "      <td>100</td>\n",
              "    </tr>\n",
              "    <tr>\n",
              "      <th>4</th>\n",
              "      <td>Be that leadership that you used to talk about...</td>\n",
              "      <td>119</td>\n",
              "    </tr>\n",
              "    <tr>\n",
              "      <th>5</th>\n",
              "      <td>The nuclear crisis is happening in front of yo...</td>\n",
              "      <td>130</td>\n",
              "    </tr>\n",
              "    <tr>\n",
              "      <th>6</th>\n",
              "      <td>Freedom is Ukrainian religion. What is yours? ...</td>\n",
              "      <td>129</td>\n",
              "    </tr>\n",
              "    <tr>\n",
              "      <th>7</th>\n",
              "      <td>Russian troops are bombing cities every day, k...</td>\n",
              "      <td>265</td>\n",
              "    </tr>\n",
              "    <tr>\n",
              "      <th>8</th>\n",
              "      <td>Since the beginning of the war, hundreds of Ru...</td>\n",
              "      <td>280</td>\n",
              "    </tr>\n",
              "    <tr>\n",
              "      <th>9</th>\n",
              "      <td>38 kids were killed, 71 wounded, 1.5 mln in th...</td>\n",
              "      <td>275</td>\n",
              "    </tr>\n",
              "    <tr>\n",
              "      <th>10</th>\n",
              "      <td>More than 500 kids were born under shelling in...</td>\n",
              "      <td>229</td>\n",
              "    </tr>\n",
              "  </tbody>\n",
              "</table>\n",
              "</div>\n",
              "      <button class=\"colab-df-convert\" onclick=\"convertToInteractive('df-d1c6c691-402b-462a-a73b-b68e54a2f0ec')\"\n",
              "              title=\"Convert this dataframe to an interactive table.\"\n",
              "              style=\"display:none;\">\n",
              "        \n",
              "  <svg xmlns=\"http://www.w3.org/2000/svg\" height=\"24px\"viewBox=\"0 0 24 24\"\n",
              "       width=\"24px\">\n",
              "    <path d=\"M0 0h24v24H0V0z\" fill=\"none\"/>\n",
              "    <path d=\"M18.56 5.44l.94 2.06.94-2.06 2.06-.94-2.06-.94-.94-2.06-.94 2.06-2.06.94zm-11 1L8.5 8.5l.94-2.06 2.06-.94-2.06-.94L8.5 2.5l-.94 2.06-2.06.94zm10 10l.94 2.06.94-2.06 2.06-.94-2.06-.94-.94-2.06-.94 2.06-2.06.94z\"/><path d=\"M17.41 7.96l-1.37-1.37c-.4-.4-.92-.59-1.43-.59-.52 0-1.04.2-1.43.59L10.3 9.45l-7.72 7.72c-.78.78-.78 2.05 0 2.83L4 21.41c.39.39.9.59 1.41.59.51 0 1.02-.2 1.41-.59l7.78-7.78 2.81-2.81c.8-.78.8-2.07 0-2.86zM5.41 20L4 18.59l7.72-7.72 1.47 1.35L5.41 20z\"/>\n",
              "  </svg>\n",
              "      </button>\n",
              "      \n",
              "  <style>\n",
              "    .colab-df-container {\n",
              "      display:flex;\n",
              "      flex-wrap:wrap;\n",
              "      gap: 12px;\n",
              "    }\n",
              "\n",
              "    .colab-df-convert {\n",
              "      background-color: #E8F0FE;\n",
              "      border: none;\n",
              "      border-radius: 50%;\n",
              "      cursor: pointer;\n",
              "      display: none;\n",
              "      fill: #1967D2;\n",
              "      height: 32px;\n",
              "      padding: 0 0 0 0;\n",
              "      width: 32px;\n",
              "    }\n",
              "\n",
              "    .colab-df-convert:hover {\n",
              "      background-color: #E2EBFA;\n",
              "      box-shadow: 0px 1px 2px rgba(60, 64, 67, 0.3), 0px 1px 3px 1px rgba(60, 64, 67, 0.15);\n",
              "      fill: #174EA6;\n",
              "    }\n",
              "\n",
              "    [theme=dark] .colab-df-convert {\n",
              "      background-color: #3B4455;\n",
              "      fill: #D2E3FC;\n",
              "    }\n",
              "\n",
              "    [theme=dark] .colab-df-convert:hover {\n",
              "      background-color: #434B5C;\n",
              "      box-shadow: 0px 1px 3px 1px rgba(0, 0, 0, 0.15);\n",
              "      filter: drop-shadow(0px 1px 2px rgba(0, 0, 0, 0.3));\n",
              "      fill: #FFFFFF;\n",
              "    }\n",
              "  </style>\n",
              "\n",
              "      <script>\n",
              "        const buttonEl =\n",
              "          document.querySelector('#df-d1c6c691-402b-462a-a73b-b68e54a2f0ec button.colab-df-convert');\n",
              "        buttonEl.style.display =\n",
              "          google.colab.kernel.accessAllowed ? 'block' : 'none';\n",
              "\n",
              "        async function convertToInteractive(key) {\n",
              "          const element = document.querySelector('#df-d1c6c691-402b-462a-a73b-b68e54a2f0ec');\n",
              "          const dataTable =\n",
              "            await google.colab.kernel.invokeFunction('convertToInteractive',\n",
              "                                                     [key], {});\n",
              "          if (!dataTable) return;\n",
              "\n",
              "          const docLinkHtml = 'Like what you see? Visit the ' +\n",
              "            '<a target=\"_blank\" href=https://colab.research.google.com/notebooks/data_table.ipynb>data table notebook</a>'\n",
              "            + ' to learn more about interactive tables.';\n",
              "          element.innerHTML = '';\n",
              "          dataTable['output_type'] = 'display_data';\n",
              "          await google.colab.output.renderOutput(dataTable, element);\n",
              "          const docLink = document.createElement('div');\n",
              "          docLink.innerHTML = docLinkHtml;\n",
              "          element.appendChild(docLink);\n",
              "        }\n",
              "      </script>\n",
              "    </div>\n",
              "  </div>\n",
              "  "
            ],
            "text/plain": [
              "                                             Messedge  Lengh\n",
              "0   74% of Americans believe that NATO should #Clo...    250\n",
              "1   Since the beginning of the war, hundreds of Ru...    277\n",
              "2   We don’t need the “green light” for NATO count...    225\n",
              "3   Save the world like you do in the movies! The ...    100\n",
              "4   Be that leadership that you used to talk about...    119\n",
              "5   The nuclear crisis is happening in front of yo...    130\n",
              "6   Freedom is Ukrainian religion. What is yours? ...    129\n",
              "7   Russian troops are bombing cities every day, k...    265\n",
              "8   Since the beginning of the war, hundreds of Ru...    280\n",
              "9   38 kids were killed, 71 wounded, 1.5 mln in th...    275\n",
              "10  More than 500 kids were born under shelling in...    229"
            ]
          },
          "metadata": {},
          "execution_count": 9
        }
      ],
      "source": [
        "content = load_doc(CONTENT)\n",
        "content"
      ]
    },
    {
      "cell_type": "code",
      "execution_count": 10,
      "metadata": {
        "id": "Idj3Cbs0Yg3v"
      },
      "outputs": [],
      "source": [
        "# Довжина твіта не повинна перевищувати 280 знаків\n",
        "messeges = [m for m in content[\"Messedge\"].to_list() if len(m)<=280]"
      ]
    },
    {
      "cell_type": "markdown",
      "metadata": {
        "id": "1oIwSipdtCBa"
      },
      "source": [
        "##Test tweet##"
      ]
    },
    {
      "cell_type": "code",
      "execution_count": 11,
      "metadata": {
        "id": "Qvm2J7hne15Q"
      },
      "outputs": [],
      "source": [
        "def add_comment(user, status, media):\n",
        "    #останній твіт цільового користувача, який будемо коментувати\n",
        "    last_tweet = api.user_timeline(screen_name=user, count=1, include_rts=False, tweet_mode='extended')[0]\n",
        "\n",
        "    #створюємо повідомлення та додаємо фото\n",
        "    api.update_status(\n",
        "                      status=status, \n",
        "                      in_reply_to_status_id=last_tweet.id, \n",
        "                      media_ids=[media]\n",
        "    )"
      ]
    },
    {
      "cell_type": "code",
      "execution_count": 12,
      "metadata": {
        "id": "sM0-rv_vfB1L"
      },
      "outputs": [],
      "source": [
        "user = \"jiztastamablast\" # тестуємо на собі. пишемо свій нік\n",
        "status= \"!!!\" #  комент\n",
        "media = random.choice(imgs).media_id # рандомне фото"
      ]
    },
    {
      "cell_type": "code",
      "execution_count": 13,
      "metadata": {
        "id": "HFbNcmsAtIH7"
      },
      "outputs": [],
      "source": [
        "api.update_status(status=\"!\", media_ids=[random.choice(imgs).media_id]) "
      ]
    },
    {
      "cell_type": "code",
      "execution_count": 14,
      "metadata": {
        "id": "RTDk0LvifOU6"
      },
      "outputs": [],
      "source": [
        "add_comment(user, status, media)"
      ]
    },
    {
      "cell_type": "markdown",
      "metadata": {
        "id": "xa5JXYY60_PJ"
      },
      "source": [
        "##Users##"
      ]
    },
    {
      "cell_type": "code",
      "execution_count": 15,
      "metadata": {
        "colab": {
          "base_uri": "https://localhost:8080/",
          "height": 423
        },
        "id": "oX5E20WK0CmZ",
        "outputId": "23107428-7c01-47b7-d991-291c9d1ba4eb"
      },
      "outputs": [
        {
          "output_type": "execute_result",
          "data": {
            "text/html": [
              "\n",
              "  <div id=\"df-53152377-ec69-43a9-9fb6-faa24f24fdb6\">\n",
              "    <div class=\"colab-df-container\">\n",
              "      <div>\n",
              "<style scoped>\n",
              "    .dataframe tbody tr th:only-of-type {\n",
              "        vertical-align: middle;\n",
              "    }\n",
              "\n",
              "    .dataframe tbody tr th {\n",
              "        vertical-align: top;\n",
              "    }\n",
              "\n",
              "    .dataframe thead th {\n",
              "        text-align: right;\n",
              "    }\n",
              "</style>\n",
              "<table border=\"1\" class=\"dataframe\">\n",
              "  <thead>\n",
              "    <tr style=\"text-align: right;\">\n",
              "      <th></th>\n",
              "      <th>State</th>\n",
              "      <th>Member of Congress</th>\n",
              "      <th>Name</th>\n",
              "      <th>Party</th>\n",
              "      <th>Twitter</th>\n",
              "      <th>Facebook</th>\n",
              "      <th>TwitterNickname</th>\n",
              "    </tr>\n",
              "  </thead>\n",
              "  <tbody>\n",
              "    <tr>\n",
              "      <th>0</th>\n",
              "      <td>Alabama</td>\n",
              "      <td>U.S. Senator</td>\n",
              "      <td>Shelby, Richard</td>\n",
              "      <td>R</td>\n",
              "      <td>@SenShelby</td>\n",
              "      <td>x</td>\n",
              "      <td>SenShelby</td>\n",
              "    </tr>\n",
              "    <tr>\n",
              "      <th>1</th>\n",
              "      <td>Alabama</td>\n",
              "      <td>U.S. Senator</td>\n",
              "      <td>Tuberville, Tommy</td>\n",
              "      <td>R</td>\n",
              "      <td>@Ttuberville</td>\n",
              "      <td>x</td>\n",
              "      <td>Ttuberville</td>\n",
              "    </tr>\n",
              "    <tr>\n",
              "      <th>2</th>\n",
              "      <td>Alabama 1st District</td>\n",
              "      <td>U.S. Representative</td>\n",
              "      <td>Carl, Jerry</td>\n",
              "      <td>R</td>\n",
              "      <td>@RepJerryCarl</td>\n",
              "      <td>x</td>\n",
              "      <td>RepJerryCarl</td>\n",
              "    </tr>\n",
              "    <tr>\n",
              "      <th>3</th>\n",
              "      <td>Alabama 2nd District</td>\n",
              "      <td>U.S. Representative</td>\n",
              "      <td>Moore, Barry</td>\n",
              "      <td>R</td>\n",
              "      <td>@RepBarryMoore</td>\n",
              "      <td>x</td>\n",
              "      <td>RepBarryMoore</td>\n",
              "    </tr>\n",
              "    <tr>\n",
              "      <th>4</th>\n",
              "      <td>Alabama 3rd District</td>\n",
              "      <td>U.S. Representative</td>\n",
              "      <td>Rogers, Mike</td>\n",
              "      <td>R</td>\n",
              "      <td>@RepMikeRogers</td>\n",
              "      <td>x</td>\n",
              "      <td>RepMikeRogers</td>\n",
              "    </tr>\n",
              "    <tr>\n",
              "      <th>...</th>\n",
              "      <td>...</td>\n",
              "      <td>...</td>\n",
              "      <td>...</td>\n",
              "      <td>...</td>\n",
              "      <td>...</td>\n",
              "      <td>...</td>\n",
              "      <td>...</td>\n",
              "    </tr>\n",
              "    <tr>\n",
              "      <th>536</th>\n",
              "      <td>Wisconsin 7th District</td>\n",
              "      <td>U.S. Representative</td>\n",
              "      <td>Tiffany, Thomas</td>\n",
              "      <td>R</td>\n",
              "      <td>@TomTiffanyWI</td>\n",
              "      <td>x</td>\n",
              "      <td>TomTiffanyWI</td>\n",
              "    </tr>\n",
              "    <tr>\n",
              "      <th>537</th>\n",
              "      <td>Wisconsin 8th District</td>\n",
              "      <td>U.S. Representative</td>\n",
              "      <td>Gallagher, Mike</td>\n",
              "      <td>R</td>\n",
              "      <td>@MikeforWI</td>\n",
              "      <td>x</td>\n",
              "      <td>MikeforWI</td>\n",
              "    </tr>\n",
              "    <tr>\n",
              "      <th>538</th>\n",
              "      <td>Wyoming</td>\n",
              "      <td>U.S. Senator</td>\n",
              "      <td>Lummis, Cynthia</td>\n",
              "      <td>R</td>\n",
              "      <td>@SenLummis</td>\n",
              "      <td>x</td>\n",
              "      <td>SenLummis</td>\n",
              "    </tr>\n",
              "    <tr>\n",
              "      <th>539</th>\n",
              "      <td>Wyoming</td>\n",
              "      <td>U.S. Senator</td>\n",
              "      <td>Barrasso, John</td>\n",
              "      <td>R</td>\n",
              "      <td>@SenJohnBarrasso</td>\n",
              "      <td>x</td>\n",
              "      <td>SenJohnBarrasso</td>\n",
              "    </tr>\n",
              "    <tr>\n",
              "      <th>540</th>\n",
              "      <td>Wyoming At-Large</td>\n",
              "      <td>U.S. Representative</td>\n",
              "      <td>Cheney, Liz</td>\n",
              "      <td>R</td>\n",
              "      <td>@Liz_Cheney</td>\n",
              "      <td>x</td>\n",
              "      <td>Liz_Cheney</td>\n",
              "    </tr>\n",
              "  </tbody>\n",
              "</table>\n",
              "<p>538 rows × 7 columns</p>\n",
              "</div>\n",
              "      <button class=\"colab-df-convert\" onclick=\"convertToInteractive('df-53152377-ec69-43a9-9fb6-faa24f24fdb6')\"\n",
              "              title=\"Convert this dataframe to an interactive table.\"\n",
              "              style=\"display:none;\">\n",
              "        \n",
              "  <svg xmlns=\"http://www.w3.org/2000/svg\" height=\"24px\"viewBox=\"0 0 24 24\"\n",
              "       width=\"24px\">\n",
              "    <path d=\"M0 0h24v24H0V0z\" fill=\"none\"/>\n",
              "    <path d=\"M18.56 5.44l.94 2.06.94-2.06 2.06-.94-2.06-.94-.94-2.06-.94 2.06-2.06.94zm-11 1L8.5 8.5l.94-2.06 2.06-.94-2.06-.94L8.5 2.5l-.94 2.06-2.06.94zm10 10l.94 2.06.94-2.06 2.06-.94-2.06-.94-.94-2.06-.94 2.06-2.06.94z\"/><path d=\"M17.41 7.96l-1.37-1.37c-.4-.4-.92-.59-1.43-.59-.52 0-1.04.2-1.43.59L10.3 9.45l-7.72 7.72c-.78.78-.78 2.05 0 2.83L4 21.41c.39.39.9.59 1.41.59.51 0 1.02-.2 1.41-.59l7.78-7.78 2.81-2.81c.8-.78.8-2.07 0-2.86zM5.41 20L4 18.59l7.72-7.72 1.47 1.35L5.41 20z\"/>\n",
              "  </svg>\n",
              "      </button>\n",
              "      \n",
              "  <style>\n",
              "    .colab-df-container {\n",
              "      display:flex;\n",
              "      flex-wrap:wrap;\n",
              "      gap: 12px;\n",
              "    }\n",
              "\n",
              "    .colab-df-convert {\n",
              "      background-color: #E8F0FE;\n",
              "      border: none;\n",
              "      border-radius: 50%;\n",
              "      cursor: pointer;\n",
              "      display: none;\n",
              "      fill: #1967D2;\n",
              "      height: 32px;\n",
              "      padding: 0 0 0 0;\n",
              "      width: 32px;\n",
              "    }\n",
              "\n",
              "    .colab-df-convert:hover {\n",
              "      background-color: #E2EBFA;\n",
              "      box-shadow: 0px 1px 2px rgba(60, 64, 67, 0.3), 0px 1px 3px 1px rgba(60, 64, 67, 0.15);\n",
              "      fill: #174EA6;\n",
              "    }\n",
              "\n",
              "    [theme=dark] .colab-df-convert {\n",
              "      background-color: #3B4455;\n",
              "      fill: #D2E3FC;\n",
              "    }\n",
              "\n",
              "    [theme=dark] .colab-df-convert:hover {\n",
              "      background-color: #434B5C;\n",
              "      box-shadow: 0px 1px 3px 1px rgba(0, 0, 0, 0.15);\n",
              "      filter: drop-shadow(0px 1px 2px rgba(0, 0, 0, 0.3));\n",
              "      fill: #FFFFFF;\n",
              "    }\n",
              "  </style>\n",
              "\n",
              "      <script>\n",
              "        const buttonEl =\n",
              "          document.querySelector('#df-53152377-ec69-43a9-9fb6-faa24f24fdb6 button.colab-df-convert');\n",
              "        buttonEl.style.display =\n",
              "          google.colab.kernel.accessAllowed ? 'block' : 'none';\n",
              "\n",
              "        async function convertToInteractive(key) {\n",
              "          const element = document.querySelector('#df-53152377-ec69-43a9-9fb6-faa24f24fdb6');\n",
              "          const dataTable =\n",
              "            await google.colab.kernel.invokeFunction('convertToInteractive',\n",
              "                                                     [key], {});\n",
              "          if (!dataTable) return;\n",
              "\n",
              "          const docLinkHtml = 'Like what you see? Visit the ' +\n",
              "            '<a target=\"_blank\" href=https://colab.research.google.com/notebooks/data_table.ipynb>data table notebook</a>'\n",
              "            + ' to learn more about interactive tables.';\n",
              "          element.innerHTML = '';\n",
              "          dataTable['output_type'] = 'display_data';\n",
              "          await google.colab.output.renderOutput(dataTable, element);\n",
              "          const docLink = document.createElement('div');\n",
              "          docLink.innerHTML = docLinkHtml;\n",
              "          element.appendChild(docLink);\n",
              "        }\n",
              "      </script>\n",
              "    </div>\n",
              "  </div>\n",
              "  "
            ],
            "text/plain": [
              "                      State   Member of Congress               Name Party  \\\n",
              "0                   Alabama         U.S. Senator    Shelby, Richard     R   \n",
              "1                   Alabama         U.S. Senator  Tuberville, Tommy     R   \n",
              "2      Alabama 1st District  U.S. Representative        Carl, Jerry     R   \n",
              "3      Alabama 2nd District  U.S. Representative       Moore, Barry     R   \n",
              "4      Alabama 3rd District  U.S. Representative       Rogers, Mike     R   \n",
              "..                      ...                  ...                ...   ...   \n",
              "536  Wisconsin 7th District  U.S. Representative    Tiffany, Thomas     R   \n",
              "537  Wisconsin 8th District  U.S. Representative    Gallagher, Mike     R   \n",
              "538                 Wyoming         U.S. Senator    Lummis, Cynthia     R   \n",
              "539                 Wyoming         U.S. Senator     Barrasso, John     R   \n",
              "540        Wyoming At-Large  U.S. Representative        Cheney, Liz     R   \n",
              "\n",
              "              Twitter Facebook  TwitterNickname  \n",
              "0          @SenShelby        x        SenShelby  \n",
              "1        @Ttuberville        x      Ttuberville  \n",
              "2       @RepJerryCarl        x     RepJerryCarl  \n",
              "3      @RepBarryMoore        x    RepBarryMoore  \n",
              "4      @RepMikeRogers        x    RepMikeRogers  \n",
              "..                ...      ...              ...  \n",
              "536     @TomTiffanyWI        x     TomTiffanyWI  \n",
              "537        @MikeforWI        x        MikeforWI  \n",
              "538        @SenLummis        x        SenLummis  \n",
              "539  @SenJohnBarrasso        x  SenJohnBarrasso  \n",
              "540       @Liz_Cheney        x       Liz_Cheney  \n",
              "\n",
              "[538 rows x 7 columns]"
            ]
          },
          "metadata": {},
          "execution_count": 15
        }
      ],
      "source": [
        "users = load_doc(USERS)\n",
        "try:\n",
        "  users[\"TwitterNickname\"] = users[\"Twitter\"].str.replace(\"https://twitter.com/\", \"\", regex=False).str.replace(\"@\", \"\", regex=False)\n",
        "except:\n",
        "  pass\n",
        "#прибираємо нульові строки\n",
        "users.dropna(subset=[\"TwitterNickname\"], inplace=True)\n",
        "users"
      ]
    },
    {
      "cell_type": "code",
      "execution_count": 16,
      "metadata": {
        "colab": {
          "base_uri": "https://localhost:8080/"
        },
        "id": "f4rAjSUEgrjx",
        "outputId": "1e4bca11-b7b1-4ed2-8969-f5385a9b46cb"
      },
      "outputs": [
        {
          "output_type": "stream",
          "name": "stdout",
          "text": [
            "<class 'pandas.core.frame.DataFrame'>\n",
            "Int64Index: 538 entries, 0 to 540\n",
            "Data columns (total 7 columns):\n",
            " #   Column              Non-Null Count  Dtype \n",
            "---  ------              --------------  ----- \n",
            " 0   State               538 non-null    object\n",
            " 1   Member of Congress  538 non-null    object\n",
            " 2   Name                538 non-null    object\n",
            " 3   Party               538 non-null    object\n",
            " 4   Twitter             538 non-null    object\n",
            " 5   Facebook            537 non-null    object\n",
            " 6   TwitterNickname     538 non-null    object\n",
            "dtypes: object(7)\n",
            "memory usage: 33.6+ KB\n"
          ]
        }
      ],
      "source": [
        "# users.info()"
      ]
    },
    {
      "cell_type": "markdown",
      "metadata": {
        "id": "_WOTQH1ZIVIV"
      },
      "source": [
        "##Sturm##"
      ]
    },
    {
      "cell_type": "code",
      "execution_count": null,
      "metadata": {
        "id": "s080kvBOInBb"
      },
      "outputs": [],
      "source": [
        "bad_user = []\n",
        "\n",
        "for user in users[\"TwitterNickname\"].to_list():\n",
        "  try:\n",
        "    # обираємо рандомні повідомлення та фото\n",
        "    status= random.choice(messeges)\n",
        "    media = random.choice(imgs).media_id\n",
        "\n",
        "    # додаємо комент\n",
        "    add_comment(user, status, media)\n",
        "\n",
        "  except tweepy.TweepError as error:\n",
        "    if error.api_code == 185:\n",
        "      print(\"Перевищено ліміт 300 повідомельнь за 3 години. Чекаємо...\")\n",
        "      time.sleep(3*60*60)\n",
        "    else:\n",
        "      print(error)\n",
        "      print(f\"error sending comment to user: {user}\")\n",
        "\n",
        "    bad_user.append(user)\n"
      ]
    }
  ],
  "metadata": {
    "colab": {
      "collapsed_sections": [],
      "name": "TwitterSturm.ipynb",
      "provenance": [],
      "authorship_tag": "ABX9TyM/AUuU4vYmg6dxfW6PmukZ",
      "include_colab_link": true
    },
    "kernelspec": {
      "display_name": "Python 3",
      "name": "python3"
    },
    "language_info": {
      "name": "python"
    }
  },
  "nbformat": 4,
  "nbformat_minor": 0
}