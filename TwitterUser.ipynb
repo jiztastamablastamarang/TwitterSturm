{
  "cells": [
    {
      "cell_type": "markdown",
      "metadata": {
        "id": "view-in-github",
        "colab_type": "text"
      },
      "source": [
        "<a href=\"https://colab.research.google.com/github/jiztastamablastamarang/TwitterSturm/blob/main/TwitterUser.ipynb\" target=\"_parent\"><img src=\"https://colab.research.google.com/assets/colab-badge.svg\" alt=\"Open In Colab\"/></a>"
      ]
    },
    {
      "cell_type": "markdown",
      "source": [
        "##WebDriver##"
      ],
      "metadata": {
        "id": "vnGWAnwZ9DXr"
      }
    },
    {
      "cell_type": "markdown",
      "source": [
        "###Modules###"
      ],
      "metadata": {
        "id": "jDdBbavmhVO9"
      }
    },
    {
      "cell_type": "code",
      "source": [
        "!dpkg --configure -a\n",
        "!pip install -q selenium\n",
        "!apt-get -qq update\n",
        "!apt install -q chromium-chromedriver"
      ],
      "metadata": {
        "id": "RTXi-3dPEbcJ",
        "outputId": "124dd686-5281-4826-e88f-9d50397ff3f1",
        "colab": {
          "base_uri": "https://localhost:8080/"
        }
      },
      "execution_count": 52,
      "outputs": [
        {
          "output_type": "stream",
          "name": "stdout",
          "text": [
            "Reading package lists...\n",
            "Building dependency tree...\n",
            "Reading state information...\n",
            "chromium-chromedriver is already the newest version (99.0.4844.51-0ubuntu0.18.04.1).\n",
            "0 upgraded, 0 newly installed, 0 to remove and 49 not upgraded.\n"
          ]
        }
      ]
    },
    {
      "cell_type": "code",
      "execution_count": 53,
      "metadata": {
        "id": "BXZO1rDQ-l5Z"
      },
      "outputs": [],
      "source": [
        "import pandas as pd\n",
        "import requests\n",
        "import os\n",
        "import glob\n",
        "import random\n",
        "import shutil\n",
        "import time\n",
        "\n",
        "from selenium import webdriver\n",
        "from selenium.webdriver.common.keys import Keys\n",
        "from selenium.webdriver import ActionChains\n",
        "from selenium.webdriver.chrome.options import Options\n",
        "from selenium.webdriver.common.by import By\n",
        "from selenium.webdriver.support.ui import WebDriverWait\n",
        "from selenium.webdriver.support import expected_conditions as EC\n",
        "\n",
        "\n",
        "from pydrive.auth import GoogleAuth\n",
        "from pydrive.drive import GoogleDrive\n",
        "from google.colab import auth\n",
        "from oauth2client.client import GoogleCredentials\n",
        "from IPython.display import Image"
      ]
    },
    {
      "cell_type": "code",
      "source": [
        "def screenshot(webdriver):\n",
        "  t=3\n",
        "  time.sleep(t)\n",
        "  webdriver.fullscreen_window()\n",
        "  img = webdriver.get_screenshot_as_png()\n",
        "  return Image(img)"
      ],
      "metadata": {
        "id": "xsOyyar9seuF"
      },
      "execution_count": 54,
      "outputs": []
    },
    {
      "cell_type": "markdown",
      "source": [
        "###TwitterSoldier Class###"
      ],
      "metadata": {
        "id": "Tg3CsIpJSeQM"
      }
    },
    {
      "cell_type": "code",
      "source": [
        "class TwitterSoldier:\n",
        "\n",
        "    def __init__(self, email, password, nick):\n",
        "      self.email = EMAIL\n",
        "      self.password = PASSWORD\n",
        "      self.nick = NICK\n",
        "      t = 10\n",
        "      options = Options()\n",
        "      options = webdriver.ChromeOptions()\n",
        "      options.add_argument(\"--start-maximized\")\n",
        "      options.add_argument('--headless')\n",
        "      options.add_argument('--no-sandbox')\n",
        "      options.add_argument('--disable-dev-shm-usage')\n",
        "      options.add_argument(\"--window-size=3920,2080\")\n",
        "      self.driver = webdriver.Chrome(executable_path=\"chromedriver\", options=options)\n",
        "      self.waiter = WebDriverWait(self.driver, t)\n",
        "      self.action = ActionChains(self.driver)\n",
        "\n",
        "    def login(self):\n",
        "      driver = self.driver\n",
        "      wait = self.waiter\n",
        "      driver.get(\"https://twitter.com/login\")\n",
        "      time.sleep(3)\n",
        "\n",
        "      def input(text):\n",
        "        input = wait.until(EC.presence_of_element_located((By.TAG_NAME, \"input\")))\n",
        "        input.send_keys(text)\n",
        "        input.send_keys(Keys.ENTER)\n",
        "\n",
        "      input(self.email)\n",
        "      input(self.password)\n",
        "      try:\n",
        "        input(self.nick)\n",
        "      except:\n",
        "        pass\n",
        "      time.sleep(3)\n",
        "      return screenshot(driver)\n",
        "\n",
        "    def reply_last_tweet(self, user, status, image):\n",
        "      driver = self.driver\n",
        "      wait = self.waiter\n",
        "      action = self.action \n",
        "      driver.get(f\"https://twitter.com/{user}\")\n",
        "\n",
        "      # find user tweets\n",
        "      for i in range(5):\n",
        "        action.send_keys(Keys.PAGE_DOWN)\n",
        "        time.sleep(1)\n",
        "      urls = []\n",
        "      tweets = driver.find_elements(by=By.TAG_NAME, value=\"a\")\n",
        "      for tweet in tweets:\n",
        "          url = tweet.get_attribute(\"href\")\n",
        "          if url.lower().count(f\"{user.lower()}/status\") and not url.count(\"photo\"):\n",
        "            urls.append(url)\n",
        "            \n",
        "      # get last tweet  \n",
        "      try:\n",
        "        url = urls[0]\n",
        "        driver.get(url)\n",
        "        reply = wait.until(EC.presence_of_element_located((By.XPATH, \"//div[@data-contents='true']\")))\n",
        "        reply.send_keys(status)\n",
        "        media = driver.find_element(By.XPATH, \"//input[@data-testid='fileInput']\")\n",
        "        media.send_keys(image)\n",
        "        button = wait.until(EC.element_to_be_clickable((By.XPATH, \"//div[@data-testid='tweetButtonInline']\")))\n",
        "        button.click()\n",
        "        print(url)\n",
        "        return screenshot(driver)\n",
        "      except:\n",
        "        print(f\"error sending reply: {user}\")\n",
        "        # return screenshot(driver)"
      ],
      "metadata": {
        "id": "xbYT4V9mskmK"
      },
      "execution_count": 55,
      "outputs": []
    },
    {
      "cell_type": "markdown",
      "metadata": {
        "id": "68O1BswnG8lb"
      },
      "source": [
        "##Docs##\n",
        "Гуглотаблиці списком користувачей, контентом, директорія з фото"
      ]
    },
    {
      "cell_type": "code",
      "execution_count": 56,
      "metadata": {
        "id": "34toM6rlHAWz"
      },
      "outputs": [],
      "source": [
        "USERS = \"https://docs.google.com/spreadsheets/d/1uUF6WGtFl-WBPe_oLdk4gdgFp09aPOAekBWmHdIUnC0/edit#gid=0\" #повний список сенаторів\n",
        "CONTENT = \"https://docs.google.com/spreadsheets/d/1dsdTocyIgQpJYrBLnjxBl9e3Bdw65vAWmpBPorzLlrI/edit#gid=0\"# коменти\n",
        "IMGS = \"https://drive.google.com/drive/folders/13KrHYesxtF-Ut21EZe1ScOku8-wm-5JY\" # директорія з фото"
      ]
    },
    {
      "cell_type": "markdown",
      "source": [
        "###Images###\n",
        "Фото додаються з розшареної директорії до власного гуглодиску. Буде запрошений код підтрвердження"
      ],
      "metadata": {
        "id": "eXaVLC5PfwXK"
      }
    },
    {
      "cell_type": "code",
      "source": [
        "folder_id = IMGS.split(\"/\")[-1]\n",
        "images = []\n",
        "\n",
        "auth.authenticate_user()\n",
        "gauth = GoogleAuth()\n",
        "gauth.credentials = GoogleCredentials.get_application_default()\n",
        "drive = GoogleDrive(gauth)\n",
        "\n",
        "path = \"./temp\"\n",
        "try: shutil.rmtree(path)\n",
        "except: pass\n",
        "\n",
        "try: os.makedirs(path)\n",
        "except: pass\n",
        "\n",
        "file_list = drive.ListFile(\n",
        "    {'q': \"'{}' in parents\".format(folder_id)}).GetList()\n",
        "\n",
        "for image in file_list:\n",
        "    fname = os.path.join(path, image[\"title\"])\n",
        "    new_file = drive.CreateFile({\"id\": image[\"id\"]})\n",
        "    new_file.GetContentFile(fname)\n",
        "    print(\"uploading: \" + image[\"title\"])\n",
        "    images.append(os.path.join(\"/content\", \"temp\", image[\"title\"] ))"
      ],
      "metadata": {
        "colab": {
          "base_uri": "https://localhost:8080/"
        },
        "id": "tg64oT5Cf06p",
        "outputId": "2f916f90-839e-4014-fd16-766ada2d5236"
      },
      "execution_count": 57,
      "outputs": [
        {
          "output_type": "stream",
          "name": "stdout",
          "text": [
            "uploading: 274791836_1368383970268989_7318621539946358037_n.png\n",
            "uploading: WhatsApp Image 2022-03-04 at 13.38.41.jpeg\n"
          ]
        }
      ]
    },
    {
      "cell_type": "markdown",
      "source": [
        "###Users###"
      ],
      "metadata": {
        "id": "4CZkk4nooZ09"
      }
    },
    {
      "cell_type": "code",
      "source": [
        "def load_doc(url):\n",
        "  return pd.read_csv(url.replace(\"/edit#gid=\", \"/export?format=csv&gid=\"), on_bad_lines=\"skip\")"
      ],
      "metadata": {
        "id": "bBfE7z9dedlz"
      },
      "execution_count": 58,
      "outputs": []
    },
    {
      "cell_type": "code",
      "execution_count": 59,
      "metadata": {
        "colab": {
          "base_uri": "https://localhost:8080/",
          "height": 423
        },
        "id": "oX5E20WK0CmZ",
        "outputId": "ac1c6233-3806-4762-9e7b-4ba2c92b17cb"
      },
      "outputs": [
        {
          "output_type": "execute_result",
          "data": {
            "text/plain": [
              "                      State   Member of Congress               Name Party  \\\n",
              "0                   Alabama         U.S. Senator    Shelby, Richard     R   \n",
              "1                   Alabama         U.S. Senator  Tuberville, Tommy     R   \n",
              "2      Alabama 1st District  U.S. Representative        Carl, Jerry     R   \n",
              "3      Alabama 2nd District  U.S. Representative       Moore, Barry     R   \n",
              "4      Alabama 3rd District  U.S. Representative       Rogers, Mike     R   \n",
              "..                      ...                  ...                ...   ...   \n",
              "536  Wisconsin 7th District  U.S. Representative    Tiffany, Thomas     R   \n",
              "537  Wisconsin 8th District  U.S. Representative    Gallagher, Mike     R   \n",
              "538                 Wyoming         U.S. Senator    Lummis, Cynthia     R   \n",
              "539                 Wyoming         U.S. Senator     Barrasso, John     R   \n",
              "540        Wyoming At-Large  U.S. Representative        Cheney, Liz     R   \n",
              "\n",
              "              Twitter Facebook  TwitterNickname  \n",
              "0          @SenShelby        x        SenShelby  \n",
              "1        @Ttuberville        x      Ttuberville  \n",
              "2       @RepJerryCarl        x     RepJerryCarl  \n",
              "3      @RepBarryMoore        x    RepBarryMoore  \n",
              "4      @RepMikeRogers        x    RepMikeRogers  \n",
              "..                ...      ...              ...  \n",
              "536     @TomTiffanyWI        x     TomTiffanyWI  \n",
              "537        @MikeforWI        x        MikeforWI  \n",
              "538        @SenLummis        x        SenLummis  \n",
              "539  @SenJohnBarrasso        x  SenJohnBarrasso  \n",
              "540       @Liz_Cheney        x       Liz_Cheney  \n",
              "\n",
              "[538 rows x 7 columns]"
            ],
            "text/html": [
              "\n",
              "  <div id=\"df-bc72f1cf-4163-4e44-a6ef-ba659da6951f\">\n",
              "    <div class=\"colab-df-container\">\n",
              "      <div>\n",
              "<style scoped>\n",
              "    .dataframe tbody tr th:only-of-type {\n",
              "        vertical-align: middle;\n",
              "    }\n",
              "\n",
              "    .dataframe tbody tr th {\n",
              "        vertical-align: top;\n",
              "    }\n",
              "\n",
              "    .dataframe thead th {\n",
              "        text-align: right;\n",
              "    }\n",
              "</style>\n",
              "<table border=\"1\" class=\"dataframe\">\n",
              "  <thead>\n",
              "    <tr style=\"text-align: right;\">\n",
              "      <th></th>\n",
              "      <th>State</th>\n",
              "      <th>Member of Congress</th>\n",
              "      <th>Name</th>\n",
              "      <th>Party</th>\n",
              "      <th>Twitter</th>\n",
              "      <th>Facebook</th>\n",
              "      <th>TwitterNickname</th>\n",
              "    </tr>\n",
              "  </thead>\n",
              "  <tbody>\n",
              "    <tr>\n",
              "      <th>0</th>\n",
              "      <td>Alabama</td>\n",
              "      <td>U.S. Senator</td>\n",
              "      <td>Shelby, Richard</td>\n",
              "      <td>R</td>\n",
              "      <td>@SenShelby</td>\n",
              "      <td>x</td>\n",
              "      <td>SenShelby</td>\n",
              "    </tr>\n",
              "    <tr>\n",
              "      <th>1</th>\n",
              "      <td>Alabama</td>\n",
              "      <td>U.S. Senator</td>\n",
              "      <td>Tuberville, Tommy</td>\n",
              "      <td>R</td>\n",
              "      <td>@Ttuberville</td>\n",
              "      <td>x</td>\n",
              "      <td>Ttuberville</td>\n",
              "    </tr>\n",
              "    <tr>\n",
              "      <th>2</th>\n",
              "      <td>Alabama 1st District</td>\n",
              "      <td>U.S. Representative</td>\n",
              "      <td>Carl, Jerry</td>\n",
              "      <td>R</td>\n",
              "      <td>@RepJerryCarl</td>\n",
              "      <td>x</td>\n",
              "      <td>RepJerryCarl</td>\n",
              "    </tr>\n",
              "    <tr>\n",
              "      <th>3</th>\n",
              "      <td>Alabama 2nd District</td>\n",
              "      <td>U.S. Representative</td>\n",
              "      <td>Moore, Barry</td>\n",
              "      <td>R</td>\n",
              "      <td>@RepBarryMoore</td>\n",
              "      <td>x</td>\n",
              "      <td>RepBarryMoore</td>\n",
              "    </tr>\n",
              "    <tr>\n",
              "      <th>4</th>\n",
              "      <td>Alabama 3rd District</td>\n",
              "      <td>U.S. Representative</td>\n",
              "      <td>Rogers, Mike</td>\n",
              "      <td>R</td>\n",
              "      <td>@RepMikeRogers</td>\n",
              "      <td>x</td>\n",
              "      <td>RepMikeRogers</td>\n",
              "    </tr>\n",
              "    <tr>\n",
              "      <th>...</th>\n",
              "      <td>...</td>\n",
              "      <td>...</td>\n",
              "      <td>...</td>\n",
              "      <td>...</td>\n",
              "      <td>...</td>\n",
              "      <td>...</td>\n",
              "      <td>...</td>\n",
              "    </tr>\n",
              "    <tr>\n",
              "      <th>536</th>\n",
              "      <td>Wisconsin 7th District</td>\n",
              "      <td>U.S. Representative</td>\n",
              "      <td>Tiffany, Thomas</td>\n",
              "      <td>R</td>\n",
              "      <td>@TomTiffanyWI</td>\n",
              "      <td>x</td>\n",
              "      <td>TomTiffanyWI</td>\n",
              "    </tr>\n",
              "    <tr>\n",
              "      <th>537</th>\n",
              "      <td>Wisconsin 8th District</td>\n",
              "      <td>U.S. Representative</td>\n",
              "      <td>Gallagher, Mike</td>\n",
              "      <td>R</td>\n",
              "      <td>@MikeforWI</td>\n",
              "      <td>x</td>\n",
              "      <td>MikeforWI</td>\n",
              "    </tr>\n",
              "    <tr>\n",
              "      <th>538</th>\n",
              "      <td>Wyoming</td>\n",
              "      <td>U.S. Senator</td>\n",
              "      <td>Lummis, Cynthia</td>\n",
              "      <td>R</td>\n",
              "      <td>@SenLummis</td>\n",
              "      <td>x</td>\n",
              "      <td>SenLummis</td>\n",
              "    </tr>\n",
              "    <tr>\n",
              "      <th>539</th>\n",
              "      <td>Wyoming</td>\n",
              "      <td>U.S. Senator</td>\n",
              "      <td>Barrasso, John</td>\n",
              "      <td>R</td>\n",
              "      <td>@SenJohnBarrasso</td>\n",
              "      <td>x</td>\n",
              "      <td>SenJohnBarrasso</td>\n",
              "    </tr>\n",
              "    <tr>\n",
              "      <th>540</th>\n",
              "      <td>Wyoming At-Large</td>\n",
              "      <td>U.S. Representative</td>\n",
              "      <td>Cheney, Liz</td>\n",
              "      <td>R</td>\n",
              "      <td>@Liz_Cheney</td>\n",
              "      <td>x</td>\n",
              "      <td>Liz_Cheney</td>\n",
              "    </tr>\n",
              "  </tbody>\n",
              "</table>\n",
              "<p>538 rows × 7 columns</p>\n",
              "</div>\n",
              "      <button class=\"colab-df-convert\" onclick=\"convertToInteractive('df-bc72f1cf-4163-4e44-a6ef-ba659da6951f')\"\n",
              "              title=\"Convert this dataframe to an interactive table.\"\n",
              "              style=\"display:none;\">\n",
              "        \n",
              "  <svg xmlns=\"http://www.w3.org/2000/svg\" height=\"24px\"viewBox=\"0 0 24 24\"\n",
              "       width=\"24px\">\n",
              "    <path d=\"M0 0h24v24H0V0z\" fill=\"none\"/>\n",
              "    <path d=\"M18.56 5.44l.94 2.06.94-2.06 2.06-.94-2.06-.94-.94-2.06-.94 2.06-2.06.94zm-11 1L8.5 8.5l.94-2.06 2.06-.94-2.06-.94L8.5 2.5l-.94 2.06-2.06.94zm10 10l.94 2.06.94-2.06 2.06-.94-2.06-.94-.94-2.06-.94 2.06-2.06.94z\"/><path d=\"M17.41 7.96l-1.37-1.37c-.4-.4-.92-.59-1.43-.59-.52 0-1.04.2-1.43.59L10.3 9.45l-7.72 7.72c-.78.78-.78 2.05 0 2.83L4 21.41c.39.39.9.59 1.41.59.51 0 1.02-.2 1.41-.59l7.78-7.78 2.81-2.81c.8-.78.8-2.07 0-2.86zM5.41 20L4 18.59l7.72-7.72 1.47 1.35L5.41 20z\"/>\n",
              "  </svg>\n",
              "      </button>\n",
              "      \n",
              "  <style>\n",
              "    .colab-df-container {\n",
              "      display:flex;\n",
              "      flex-wrap:wrap;\n",
              "      gap: 12px;\n",
              "    }\n",
              "\n",
              "    .colab-df-convert {\n",
              "      background-color: #E8F0FE;\n",
              "      border: none;\n",
              "      border-radius: 50%;\n",
              "      cursor: pointer;\n",
              "      display: none;\n",
              "      fill: #1967D2;\n",
              "      height: 32px;\n",
              "      padding: 0 0 0 0;\n",
              "      width: 32px;\n",
              "    }\n",
              "\n",
              "    .colab-df-convert:hover {\n",
              "      background-color: #E2EBFA;\n",
              "      box-shadow: 0px 1px 2px rgba(60, 64, 67, 0.3), 0px 1px 3px 1px rgba(60, 64, 67, 0.15);\n",
              "      fill: #174EA6;\n",
              "    }\n",
              "\n",
              "    [theme=dark] .colab-df-convert {\n",
              "      background-color: #3B4455;\n",
              "      fill: #D2E3FC;\n",
              "    }\n",
              "\n",
              "    [theme=dark] .colab-df-convert:hover {\n",
              "      background-color: #434B5C;\n",
              "      box-shadow: 0px 1px 3px 1px rgba(0, 0, 0, 0.15);\n",
              "      filter: drop-shadow(0px 1px 2px rgba(0, 0, 0, 0.3));\n",
              "      fill: #FFFFFF;\n",
              "    }\n",
              "  </style>\n",
              "\n",
              "      <script>\n",
              "        const buttonEl =\n",
              "          document.querySelector('#df-bc72f1cf-4163-4e44-a6ef-ba659da6951f button.colab-df-convert');\n",
              "        buttonEl.style.display =\n",
              "          google.colab.kernel.accessAllowed ? 'block' : 'none';\n",
              "\n",
              "        async function convertToInteractive(key) {\n",
              "          const element = document.querySelector('#df-bc72f1cf-4163-4e44-a6ef-ba659da6951f');\n",
              "          const dataTable =\n",
              "            await google.colab.kernel.invokeFunction('convertToInteractive',\n",
              "                                                     [key], {});\n",
              "          if (!dataTable) return;\n",
              "\n",
              "          const docLinkHtml = 'Like what you see? Visit the ' +\n",
              "            '<a target=\"_blank\" href=https://colab.research.google.com/notebooks/data_table.ipynb>data table notebook</a>'\n",
              "            + ' to learn more about interactive tables.';\n",
              "          element.innerHTML = '';\n",
              "          dataTable['output_type'] = 'display_data';\n",
              "          await google.colab.output.renderOutput(dataTable, element);\n",
              "          const docLink = document.createElement('div');\n",
              "          docLink.innerHTML = docLinkHtml;\n",
              "          element.appendChild(docLink);\n",
              "        }\n",
              "      </script>\n",
              "    </div>\n",
              "  </div>\n",
              "  "
            ]
          },
          "metadata": {},
          "execution_count": 59
        }
      ],
      "source": [
        "users = load_doc(USERS)\n",
        "try:\n",
        "  users[\"TwitterNickname\"] = users[\"Twitter\"].str.replace(\"https://twitter.com/\", \"\", regex=False).str.replace(\"@\", \"\", regex=False)\n",
        "except:\n",
        "  pass\n",
        "users.dropna(subset=[\"TwitterNickname\"], inplace=True)\n",
        "users"
      ]
    },
    {
      "cell_type": "markdown",
      "source": [
        "###Content###"
      ],
      "metadata": {
        "id": "JaCtVe7-oiUW"
      }
    },
    {
      "cell_type": "code",
      "execution_count": 60,
      "metadata": {
        "colab": {
          "base_uri": "https://localhost:8080/",
          "height": 80
        },
        "id": "wMa5iyedRRVp",
        "outputId": "f12d5df9-cb19-4312-e250-52225c12de46"
      },
      "outputs": [
        {
          "output_type": "execute_result",
          "data": {
            "text/plain": [
              "                                            Messedge  Lengh\n",
              "0  Russia has already launched hundreds missiles ...    159"
            ],
            "text/html": [
              "\n",
              "  <div id=\"df-5cf00b9d-d9e7-42aa-9c9e-820aca015be3\">\n",
              "    <div class=\"colab-df-container\">\n",
              "      <div>\n",
              "<style scoped>\n",
              "    .dataframe tbody tr th:only-of-type {\n",
              "        vertical-align: middle;\n",
              "    }\n",
              "\n",
              "    .dataframe tbody tr th {\n",
              "        vertical-align: top;\n",
              "    }\n",
              "\n",
              "    .dataframe thead th {\n",
              "        text-align: right;\n",
              "    }\n",
              "</style>\n",
              "<table border=\"1\" class=\"dataframe\">\n",
              "  <thead>\n",
              "    <tr style=\"text-align: right;\">\n",
              "      <th></th>\n",
              "      <th>Messedge</th>\n",
              "      <th>Lengh</th>\n",
              "    </tr>\n",
              "  </thead>\n",
              "  <tbody>\n",
              "    <tr>\n",
              "      <th>0</th>\n",
              "      <td>Russia has already launched hundreds missiles ...</td>\n",
              "      <td>159</td>\n",
              "    </tr>\n",
              "  </tbody>\n",
              "</table>\n",
              "</div>\n",
              "      <button class=\"colab-df-convert\" onclick=\"convertToInteractive('df-5cf00b9d-d9e7-42aa-9c9e-820aca015be3')\"\n",
              "              title=\"Convert this dataframe to an interactive table.\"\n",
              "              style=\"display:none;\">\n",
              "        \n",
              "  <svg xmlns=\"http://www.w3.org/2000/svg\" height=\"24px\"viewBox=\"0 0 24 24\"\n",
              "       width=\"24px\">\n",
              "    <path d=\"M0 0h24v24H0V0z\" fill=\"none\"/>\n",
              "    <path d=\"M18.56 5.44l.94 2.06.94-2.06 2.06-.94-2.06-.94-.94-2.06-.94 2.06-2.06.94zm-11 1L8.5 8.5l.94-2.06 2.06-.94-2.06-.94L8.5 2.5l-.94 2.06-2.06.94zm10 10l.94 2.06.94-2.06 2.06-.94-2.06-.94-.94-2.06-.94 2.06-2.06.94z\"/><path d=\"M17.41 7.96l-1.37-1.37c-.4-.4-.92-.59-1.43-.59-.52 0-1.04.2-1.43.59L10.3 9.45l-7.72 7.72c-.78.78-.78 2.05 0 2.83L4 21.41c.39.39.9.59 1.41.59.51 0 1.02-.2 1.41-.59l7.78-7.78 2.81-2.81c.8-.78.8-2.07 0-2.86zM5.41 20L4 18.59l7.72-7.72 1.47 1.35L5.41 20z\"/>\n",
              "  </svg>\n",
              "      </button>\n",
              "      \n",
              "  <style>\n",
              "    .colab-df-container {\n",
              "      display:flex;\n",
              "      flex-wrap:wrap;\n",
              "      gap: 12px;\n",
              "    }\n",
              "\n",
              "    .colab-df-convert {\n",
              "      background-color: #E8F0FE;\n",
              "      border: none;\n",
              "      border-radius: 50%;\n",
              "      cursor: pointer;\n",
              "      display: none;\n",
              "      fill: #1967D2;\n",
              "      height: 32px;\n",
              "      padding: 0 0 0 0;\n",
              "      width: 32px;\n",
              "    }\n",
              "\n",
              "    .colab-df-convert:hover {\n",
              "      background-color: #E2EBFA;\n",
              "      box-shadow: 0px 1px 2px rgba(60, 64, 67, 0.3), 0px 1px 3px 1px rgba(60, 64, 67, 0.15);\n",
              "      fill: #174EA6;\n",
              "    }\n",
              "\n",
              "    [theme=dark] .colab-df-convert {\n",
              "      background-color: #3B4455;\n",
              "      fill: #D2E3FC;\n",
              "    }\n",
              "\n",
              "    [theme=dark] .colab-df-convert:hover {\n",
              "      background-color: #434B5C;\n",
              "      box-shadow: 0px 1px 3px 1px rgba(0, 0, 0, 0.15);\n",
              "      filter: drop-shadow(0px 1px 2px rgba(0, 0, 0, 0.3));\n",
              "      fill: #FFFFFF;\n",
              "    }\n",
              "  </style>\n",
              "\n",
              "      <script>\n",
              "        const buttonEl =\n",
              "          document.querySelector('#df-5cf00b9d-d9e7-42aa-9c9e-820aca015be3 button.colab-df-convert');\n",
              "        buttonEl.style.display =\n",
              "          google.colab.kernel.accessAllowed ? 'block' : 'none';\n",
              "\n",
              "        async function convertToInteractive(key) {\n",
              "          const element = document.querySelector('#df-5cf00b9d-d9e7-42aa-9c9e-820aca015be3');\n",
              "          const dataTable =\n",
              "            await google.colab.kernel.invokeFunction('convertToInteractive',\n",
              "                                                     [key], {});\n",
              "          if (!dataTable) return;\n",
              "\n",
              "          const docLinkHtml = 'Like what you see? Visit the ' +\n",
              "            '<a target=\"_blank\" href=https://colab.research.google.com/notebooks/data_table.ipynb>data table notebook</a>'\n",
              "            + ' to learn more about interactive tables.';\n",
              "          element.innerHTML = '';\n",
              "          dataTable['output_type'] = 'display_data';\n",
              "          await google.colab.output.renderOutput(dataTable, element);\n",
              "          const docLink = document.createElement('div');\n",
              "          docLink.innerHTML = docLinkHtml;\n",
              "          element.appendChild(docLink);\n",
              "        }\n",
              "      </script>\n",
              "    </div>\n",
              "  </div>\n",
              "  "
            ]
          },
          "metadata": {},
          "execution_count": 60
        }
      ],
      "source": [
        "content = load_doc(CONTENT)\n",
        "content"
      ]
    },
    {
      "cell_type": "markdown",
      "source": [
        "##Credentials##"
      ],
      "metadata": {
        "id": "2Cp3mFdirhEb"
      }
    },
    {
      "cell_type": "code",
      "source": [
        "EMAIL = \"\"\n",
        "NICK = \"\"\n",
        "PASSWORD = \"\""
      ],
      "metadata": {
        "id": "pNsM-IfSS0l9"
      },
      "execution_count": 61,
      "outputs": []
    },
    {
      "cell_type": "markdown",
      "source": [
        "##Main##"
      ],
      "metadata": {
        "id": "QhHlT3RjrtQR"
      }
    },
    {
      "cell_type": "code",
      "source": [
        "bot = TwitterSoldier(EMAIL, PASSWORD, NICK)\n",
        "bot.login()"
      ],
      "metadata": {
        "id": "gKFXYCayPZoU"
      },
      "execution_count": null,
      "outputs": []
    },
    {
      "cell_type": "code",
      "source": [
        "shots = []\n",
        "\n",
        "for user in users[\"TwitterNickname\"].to_list()[:10]:\n",
        "  status= random.choice(content[\"Messedge\"].to_list())\n",
        "  media = random.choice(images)\n",
        "  shots.append(bot.reply_last_tweet(user, status, media))"
      ],
      "metadata": {
        "id": "SpkFTluHpntG"
      },
      "execution_count": null,
      "outputs": []
    },
    {
      "cell_type": "code",
      "source": [
        "shots[0]"
      ],
      "metadata": {
        "id": "gxaLFSV0TrPe"
      },
      "execution_count": null,
      "outputs": []
    }
  ],
  "metadata": {
    "colab": {
      "collapsed_sections": [
        "vnGWAnwZ9DXr",
        "68O1BswnG8lb"
      ],
      "name": "TwitterUser.ipynb",
      "provenance": [],
      "mount_file_id": "1tqjf0I_Mqb8XIYx8GDW5sjhL6i8OnfAR",
      "authorship_tag": "ABX9TyP4TEMhAvuNdhDJnpoRvLLh",
      "include_colab_link": true
    },
    "kernelspec": {
      "display_name": "Python 3",
      "name": "python3"
    },
    "language_info": {
      "name": "python"
    }
  },
  "nbformat": 4,
  "nbformat_minor": 0
}
