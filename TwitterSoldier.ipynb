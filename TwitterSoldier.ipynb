{
  "cells": [
    {
      "cell_type": "markdown",
      "metadata": {
        "id": "view-in-github",
        "colab_type": "text"
      },
      "source": [
        "<a href=\"https://colab.research.google.com/github/jiztastamablastamarang/TwitterSturm/blob/main/TwitterSoldier.ipynb\" target=\"_parent\"><img src=\"https://colab.research.google.com/assets/colab-badge.svg\" alt=\"Open In Colab\"/></a>"
      ]
    },
    {
      "cell_type": "markdown",
      "metadata": {
        "id": "vnGWAnwZ9DXr"
      },
      "source": [
        "##Bot##"
      ]
    },
    {
      "cell_type": "markdown",
      "metadata": {
        "id": "jDdBbavmhVO9"
      },
      "source": [
        "###Modules###"
      ]
    },
    {
      "cell_type": "code",
      "execution_count": null,
      "metadata": {
        "colab": {
          "base_uri": "https://localhost:8080/"
        },
        "id": "RTXi-3dPEbcJ",
        "outputId": "3fac2a22-1cb2-4516-c120-91116a62f718"
      },
      "outputs": [
        {
          "output_type": "stream",
          "name": "stdout",
          "text": [
            "\u001b[K     |████████████████████████████████| 968 kB 14.1 MB/s \n",
            "\u001b[K     |████████████████████████████████| 138 kB 49.5 MB/s \n",
            "\u001b[K     |████████████████████████████████| 359 kB 59.7 MB/s \n",
            "\u001b[K     |████████████████████████████████| 3.6 MB 53.3 MB/s \n",
            "\u001b[K     |████████████████████████████████| 55 kB 4.3 MB/s \n",
            "\u001b[K     |████████████████████████████████| 58 kB 5.7 MB/s \n",
            "\u001b[31mERROR: pip's dependency resolver does not currently take into account all the packages that are installed. This behaviour is the source of the following dependency conflicts.\n",
            "requests 2.23.0 requires urllib3!=1.25.0,!=1.25.1,<1.26,>=1.21.1, but you have urllib3 1.26.9 which is incompatible.\n",
            "datascience 0.10.6 requires folium==0.2.1, but you have folium 0.8.3 which is incompatible.\u001b[0m\n",
            "\u001b[K     |████████████████████████████████| 127 kB 12.2 MB/s \n",
            "\u001b[31mERROR: pip's dependency resolver does not currently take into account all the packages that are installed. This behaviour is the source of the following dependency conflicts.\n",
            "selenium 4.1.3 requires urllib3[secure,socks]~=1.26, but you have urllib3 1.25.11 which is incompatible.\n",
            "datascience 0.10.6 requires folium==0.2.1, but you have folium 0.8.3 which is incompatible.\u001b[0m\n",
            "\u001b[?25hReading package lists...\n",
            "Building dependency tree...\n",
            "Reading state information...\n",
            "The following additional packages will be installed:\n",
            "  chromium-browser chromium-browser-l10n chromium-codecs-ffmpeg-extra\n",
            "Suggested packages:\n",
            "  webaccounts-chromium-extension unity-chromium-extension\n",
            "The following NEW packages will be installed:\n",
            "  chromium-browser chromium-browser-l10n chromium-chromedriver\n",
            "  chromium-codecs-ffmpeg-extra\n",
            "0 upgraded, 4 newly installed, 0 to remove and 63 not upgraded.\n",
            "Need to get 88.3 MB of archives.\n",
            "After this operation, 294 MB of additional disk space will be used.\n",
            "Get:1 http://archive.ubuntu.com/ubuntu bionic-updates/universe amd64 chromium-codecs-ffmpeg-extra amd64 99.0.4844.51-0ubuntu0.18.04.1 [1,143 kB]\n",
            "Get:2 http://archive.ubuntu.com/ubuntu bionic-updates/universe amd64 chromium-browser amd64 99.0.4844.51-0ubuntu0.18.04.1 [77.6 MB]\n",
            "Get:3 http://archive.ubuntu.com/ubuntu bionic-updates/universe amd64 chromium-browser-l10n all 99.0.4844.51-0ubuntu0.18.04.1 [4,388 kB]\n",
            "Get:4 http://archive.ubuntu.com/ubuntu bionic-updates/universe amd64 chromium-chromedriver amd64 99.0.4844.51-0ubuntu0.18.04.1 [5,092 kB]\n",
            "Fetched 88.3 MB in 3s (25.5 MB/s)\n",
            "Selecting previously unselected package chromium-codecs-ffmpeg-extra.\n",
            "(Reading database ... 155335 files and directories currently installed.)\n",
            "Preparing to unpack .../chromium-codecs-ffmpeg-extra_99.0.4844.51-0ubuntu0.18.04.1_amd64.deb ...\n",
            "Unpacking chromium-codecs-ffmpeg-extra (99.0.4844.51-0ubuntu0.18.04.1) ...\n",
            "Selecting previously unselected package chromium-browser.\n",
            "Preparing to unpack .../chromium-browser_99.0.4844.51-0ubuntu0.18.04.1_amd64.deb ...\n",
            "Unpacking chromium-browser (99.0.4844.51-0ubuntu0.18.04.1) ...\n",
            "Selecting previously unselected package chromium-browser-l10n.\n",
            "Preparing to unpack .../chromium-browser-l10n_99.0.4844.51-0ubuntu0.18.04.1_all.deb ...\n",
            "Unpacking chromium-browser-l10n (99.0.4844.51-0ubuntu0.18.04.1) ...\n",
            "Selecting previously unselected package chromium-chromedriver.\n",
            "Preparing to unpack .../chromium-chromedriver_99.0.4844.51-0ubuntu0.18.04.1_amd64.deb ...\n",
            "Unpacking chromium-chromedriver (99.0.4844.51-0ubuntu0.18.04.1) ...\n",
            "Setting up chromium-codecs-ffmpeg-extra (99.0.4844.51-0ubuntu0.18.04.1) ...\n",
            "Setting up chromium-browser (99.0.4844.51-0ubuntu0.18.04.1) ...\n",
            "update-alternatives: using /usr/bin/chromium-browser to provide /usr/bin/x-www-browser (x-www-browser) in auto mode\n",
            "update-alternatives: using /usr/bin/chromium-browser to provide /usr/bin/gnome-www-browser (gnome-www-browser) in auto mode\n",
            "Setting up chromium-chromedriver (99.0.4844.51-0ubuntu0.18.04.1) ...\n",
            "Setting up chromium-browser-l10n (99.0.4844.51-0ubuntu0.18.04.1) ...\n",
            "Processing triggers for man-db (2.8.3-2ubuntu0.1) ...\n",
            "Processing triggers for hicolor-icon-theme (0.17-2) ...\n",
            "Processing triggers for mime-support (3.60ubuntu1) ...\n",
            "Processing triggers for libc-bin (2.27-3ubuntu1.3) ...\n",
            "/sbin/ldconfig.real: /usr/local/lib/python3.7/dist-packages/ideep4py/lib/libmkldnn.so.0 is not a symbolic link\n",
            "\n"
          ]
        }
      ],
      "source": [
        "!pip install -U -q selenium\n",
        "!pip install -U -q snscrape\n",
        "\n",
        "!apt-get -qq update\n",
        "!apt install -q chromium-chromedriver\n",
        "!dpkg --configure -a"
      ]
    },
    {
      "cell_type": "code",
      "execution_count": null,
      "metadata": {
        "id": "BXZO1rDQ-l5Z"
      },
      "outputs": [],
      "source": [
        "import pandas as pd\n",
        "import requests\n",
        "import os\n",
        "import glob\n",
        "import random\n",
        "import shutil\n",
        "import time\n",
        "from datetime import datetime, timedelta\n",
        "from tqdm import tqdm\n",
        "from collections import UserList\n",
        "\n",
        "from selenium import webdriver\n",
        "from selenium.webdriver.common.keys import Keys\n",
        "from selenium.webdriver import ActionChains\n",
        "from selenium.webdriver.chrome.options import Options\n",
        "from selenium.webdriver.common.by import By\n",
        "from selenium.webdriver.support.ui import WebDriverWait\n",
        "from selenium.webdriver.support import expected_conditions as EC\n",
        "\n",
        "\n",
        "from pydrive.auth import GoogleAuth\n",
        "from pydrive.drive import GoogleDrive\n",
        "from google.colab import auth\n",
        "from oauth2client.client import GoogleCredentials\n",
        "\n",
        "from IPython.display import Image\n",
        "import snscrape.modules.twitter as sns\n"
      ]
    },
    {
      "cell_type": "code",
      "execution_count": null,
      "metadata": {
        "id": "xsOyyar9seuF"
      },
      "outputs": [],
      "source": [
        "def screenshot(webdriver):\n",
        "  t=3\n",
        "  time.sleep(t)\n",
        "  webdriver.fullscreen_window()\n",
        "  img = webdriver.get_screenshot_as_png()\n",
        "  return Image(img)"
      ]
    },
    {
      "cell_type": "markdown",
      "metadata": {
        "id": "Tg3CsIpJSeQM"
      },
      "source": [
        "###Class###"
      ]
    },
    {
      "cell_type": "code",
      "execution_count": null,
      "metadata": {
        "id": "xbYT4V9mskmK"
      },
      "outputs": [],
      "source": [
        "class TwitterSoldier:\n",
        "\n",
        "    def __init__(self, phone, password, username):\n",
        "      self.email = phone\n",
        "      self.password = password\n",
        "      self.nick = username\n",
        "      t = 10\n",
        "      options = Options()\n",
        "      options = webdriver.ChromeOptions()\n",
        "      options.add_argument(\"--start-maximized\")\n",
        "      options.add_argument('--headless')\n",
        "      options.add_argument('--no-sandbox')\n",
        "      options.add_argument('--disable-dev-shm-usage')\n",
        "      options.add_argument(\"--window-size=3920,2080\")\n",
        "      options.add_argument(\"--blink-settings=imagesEnabled=false\")\n",
        "      self.driver = webdriver.Chrome(executable_path=\"chromedriver\", options=options)\n",
        "      self.waiter = WebDriverWait(self.driver, t)\n",
        "      self.action = ActionChains(self.driver)\n",
        "      \n",
        "\n",
        "    def login(self):\n",
        "      messedge = \"We've texted you a login verification code\"\n",
        "      driver = self.driver\n",
        "      wait = self.waiter\n",
        "      driver.get(\"https://twitter.com/login\")\n",
        "      time.sleep(3)\n",
        "\n",
        "      def enter(text):\n",
        "        field = wait.until(EC.presence_of_element_located((By.TAG_NAME, \"input\")))\n",
        "        field.send_keys(text)\n",
        "        field.send_keys(Keys.ENTER)\n",
        "        time.sleep(3)\n",
        "\n",
        "      enter(self.email)\n",
        "      enter(self.password)\n",
        "\n",
        "      if driver.page_source.count(messedge):\n",
        "        print(messedge)\n",
        "        text = input()\n",
        "        enter(text)\n",
        "\n",
        "      try:\n",
        "        enter(self.nick)\n",
        "      except:\n",
        "        pass\n",
        "\n",
        "      return screenshot(driver)\n",
        "\n",
        "\n",
        "    def reply_status(self, url, status, image):\n",
        "        driver = self.driver\n",
        "        wait = self.waiter\n",
        "        action = self.action \n",
        "        driver.get(url)\n",
        "        try:\n",
        "          reply = wait.until(EC.presence_of_element_located((By.XPATH, \"//div[@data-contents='true']\")))\n",
        "          reply.send_keys(status)\n",
        "          if image:\n",
        "            media = driver.find_element(By.XPATH, \"//input[@data-testid='fileInput']\")\n",
        "            media.send_keys(image)\n",
        "          button = wait.until(EC.element_to_be_clickable((By.XPATH, \"//div[@data-testid='tweetButtonInline']\")))\n",
        "          button.click()\n",
        "          # print(url)\n",
        "        except:\n",
        "          print(f\" error sending reply to status: {url}\")\n",
        "          return url, screenshot(driver)\n",
        "\n",
        "\n",
        "    def get_tweet_from_user(self, user, query, start):\n",
        "      tweets = sns.TwitterSearchScraper(f\"from:{user} since:{start}\").get_items()\n",
        "      for i, tweet in enumerate(tweets):\n",
        "        if tweet.content.lower().count(query.lower()) and i<100:\n",
        "          return tweet.url\n",
        "      return tweets[0].url\n",
        "\n",
        "    \n",
        "    def get_tweets_from_query(self, query, start=None, end=None, days=1):\n",
        "      tweets = []\n",
        "      if not all([start, end]):\n",
        "        end = datetime.now().strftime(\"%Y-%m-%d\")\n",
        "        start = (datetime.now() - timedelta(days=days)).strftime(\"%Y-%m-%d\")\n",
        "      for i, tweet in enumerate(sns.TwitterSearchScraper(f\"{query} since:{start} until:{end}\").get_items()):\n",
        "          tweets.append({\"date\": tweet.date, \"username\": tweet.username, \"url\": tweet.url, \"content\": tweet.content})\n",
        "        # tweets.append({\"date\": tweet.date, \n",
        "        #                \"username\": tweet.user.username, \n",
        "        #                \"followers\": tweet.user.followersCount,\n",
        "        #                \"url\": tweet.url, \"content\": tweet.content\n",
        "        #                })\n",
        "      return tweets\n",
        "\n",
        "\n",
        "    # def user_followers(self, user):\n",
        "    #   driver = self.driver\n",
        "    #   wait = self.waiter\n",
        "    #   driver.get(f\"https://twitter.com/{user}/\")\n",
        "    #   followers =  wait.until(EC.presence_of_element_located((By.XPATH, f\"//a[@href='/{user}/followers']\")))\n",
        "    #   return followers.text.split()[0].replace(\",\", \"\").replace(\".\", \"\").replace(\"K\", \"00\").replace(\"M\", \"00000\")\n"
      ]
    },
    {
      "cell_type": "markdown",
      "metadata": {
        "id": "68O1BswnG8lb"
      },
      "source": [
        "##Docs##\n",
        "Гуглотаблиці списком користувачей, контентом, директорія з фото"
      ]
    },
    {
      "cell_type": "code",
      "execution_count": null,
      "metadata": {
        "id": "34toM6rlHAWz"
      },
      "outputs": [],
      "source": [
        "USERS = \"https://docs.google.com/spreadsheets/d/1uUF6WGtFl-WBPe_oLdk4gdgFp09aPOAekBWmHdIUnC0/edit#gid=0\" #повний список сенаторів\n",
        "CONTENT = \"https://docs.google.com/spreadsheets/d/1dsdTocyIgQpJYrBLnjxBl9e3Bdw65vAWmpBPorzLlrI/edit#gid=0\"# коменти\n",
        "IMGS = \"https://drive.google.com/drive/folders/13KrHYesxtF-Ut21EZe1ScOku8-wm-5JY\" # директорія з фото"
      ]
    },
    {
      "cell_type": "markdown",
      "metadata": {
        "id": "eXaVLC5PfwXK"
      },
      "source": [
        "###Images###"
      ]
    },
    {
      "cell_type": "code",
      "execution_count": null,
      "metadata": {
        "id": "tg64oT5Cf06p"
      },
      "outputs": [],
      "source": [
        "# folder_id = IMGS.split(\"/\")[-1]\n",
        "# images = []\n",
        "\n",
        "# auth.authenticate_user()\n",
        "# gauth = GoogleAuth()\n",
        "# gauth.credentials = GoogleCredentials.get_application_default()\n",
        "# drive = GoogleDrive(gauth)\n",
        "\n",
        "# path = \"./temp\"\n",
        "# try: shutil.rmtree(path)\n",
        "# except: pass\n",
        "\n",
        "# try: os.makedirs(path)\n",
        "# except: pass\n",
        "\n",
        "# file_list = drive.ListFile(\n",
        "#     {'q': \"'{}' in parents\".format(folder_id)}).GetList()\n",
        "\n",
        "# for image in file_list:\n",
        "#     fname = os.path.join(path, image[\"title\"])\n",
        "#     new_file = drive.CreateFile({\"id\": image[\"id\"]})\n",
        "#     new_file.GetContentFile(fname)\n",
        "#     print(\"uploading: \" + image[\"title\"])\n",
        "#     images.append(os.path.join(\"/content\", \"temp\", image[\"title\"] ))"
      ]
    },
    {
      "cell_type": "markdown",
      "metadata": {
        "id": "4CZkk4nooZ09"
      },
      "source": [
        "###Users###"
      ]
    },
    {
      "cell_type": "code",
      "execution_count": null,
      "metadata": {
        "id": "bBfE7z9dedlz"
      },
      "outputs": [],
      "source": [
        "def load_doc(url):\n",
        "  return pd.read_csv(url.replace(\"/edit#gid=\", \"/export?format=csv&gid=\"), on_bad_lines=\"skip\")"
      ]
    },
    {
      "cell_type": "code",
      "execution_count": null,
      "metadata": {
        "id": "oX5E20WK0CmZ",
        "colab": {
          "base_uri": "https://localhost:8080/"
        },
        "outputId": "175c61b7-d351-4e94-a113-f0f1267617c8"
      },
      "outputs": [
        {
          "output_type": "execute_result",
          "data": {
            "text/plain": [
              "['SenShelby', 'Ttuberville', 'RepJerryCarl', 'RepBarryMoore', 'RepMikeRogers', 'Robert_Aderholt', 'RepMoBrooks', 'USRepGaryPalmer', 'RepTerriSewell', 'SenDanSullivan', 'lisamurkowski', 'RepDonYoung', 'RepAmata', 'SenMarkKelly', 'SenatorSinema', 'TomOHalleran', 'RepKirkPatrick', 'RepRaulGrijalva', 'RepGosar', 'AndyBiggs4AZ', 'RepDavid', 'RepRubenGallego', 'RepDLesko', 'RepGregStanton', 'SenTomCotton', 'JohnBoozman', 'RepRickCrawford', 'RepFrenchHill', 'rep_stevewomack', 'RepWesterman', 'SenFeinstein', 'KamalaHarris', 'RepLaMalfa', 'RepHuffman', 'RepGaramendi', 'RepMcClintock', 'RepThompson', 'DorisMatsui', 'RepBera', 'JayObernolte', 'RepMcNerney', 'RepJoshHarder', 'RepDeSaulnier', 'SpeakerPelosi', 'RepBarbaraLee', 'RepSpeier', 'RepSwalwell', 'RepJimCosta', 'RoKhannaUSA', 'RepAnnaEshoo', 'RepZoeLofgren', 'JimmyPanetta', 'RepDavidValadao', 'GOPLeader', 'CarbajalSalud', 'MikeGarcia2020', 'RepBrownley', 'RepJudyChu', 'RepAdamSchiff', 'RepCardenas', 'BradSherman', 'RepPeteAguilar', 'gracenapolitano', 'RepTedLieu', 'RepJimmyGomez', 'NormaJTorres', 'RepRaulRuizMD', 'RepKarenBass', 'RepLindaSanchez', 'YoungKimCA', 'RepRoybalAllard', 'RepMarkTakano', 'KenCalvert', 'MaxineWaters', 'Nanette4CA', 'RepKatiePorter', 'RepLouCorrea', 'RepLowenthal', 'MichelleSteelCA', 'RepMikeLevin', 'DarrellIssa', 'RepJuanVargas', 'RepScottPeters', 'SaraJacobsCA', 'MichaelBennet', 'SenatorHick', 'RepDianaDeGette', 'RepJoeNeguse', 'laurenboebert', 'RepKenBuck', 'RepDLamborn', 'RepJasonCrow', 'RepPerlmutter', 'ChrisMurphyCT', 'SenBlumenthal', 'RepJohnLarson', 'RepJoeCourtney', 'rosadelauro', 'jahimes', 'RepJahanaHayes', 'SenCoonsOffice', 'SenatorCarper', 'LisaBRochester', 'EleanorNorton', 'marcorubio', 'ScottforFlorida', 'MattGaetz', 'DrNealDunnFL2', 'Kat_Cammack', 'JRutherfordFL', 'AlLawsonJr', 'RepMichaelWaltz', 'SMurphyCongress', 'congbillposey', 'RepDarrenSoto', 'Val_Demings', 'RepWebster', 'RepGusBilirakis', 'CharlieCrist', 'USRepKCastor', 'ScottFranklinFL', 'VernBuchanan', 'RepGregSteube', 'BrianMastFL', 'ByronDonalds', 'CongresswomanSC', 'RepLoisFrankel', 'RepTedDeutch', 'RepDWStweets', 'RepWilson', 'MarioDB', 'RepCarlos', 'MaElviraSalazar', 'ossoff', 'ReverendWarnock', 'RepBuddyCarter', 'SanfordBishop', 'DrewFergusonGA', 'RepHankJohnson', 'NikemaWilliams', 'RepLucyMcBath', 'RepBourdeaux', 'AustinScottGA08', 'CongressmanHice', 'RepLoudermilk', 'RepRickAllen', 'repdavidscott', 'mtgreenee', 'GuamCongressman', 'SenBrianSchatz', 'maziehirono', 'RepEdCase', 'kaikahele', 'SenatorRisch', 'MikeCrapo', 'RepRussFulcher', 'CongMikeSimpson', 'SenDuckworth', 'SenatorDurbin', 'RepBobbyRush', 'RepRobinKelly', 'RepMarieNewman', 'RepChuyGarcia', 'RepMikeQuigley', 'RepCasten', 'RepDannyDavis', 'RajaForCongress', 'janschakowsky', 'RepSchneider', 'RepBillFoster', 'RepBost', 'RodneyDavis', 'RepUnderwood', 'RepMaryMiller', 'RepKinzinger', 'RepCheri', 'ElectLaHood', 'Braun4Indiana', 'SenToddYoung', 'RepMrvan', 'RepWalorski', 'Jim_Banks', 'RepJimBaird', 'Victoria_Spartz', 'RepGregPence', 'RepAndreCarson', 'RepLarryBucshon', 'VoteForTrey', 'ChuckGrassley', 'SenJoniErnst', 'RepAshleyHinson', 'RepMMM', 'RepCindyAxne', 'RandyFeenstra', 'RogerMarshallMD', 'JerryMoran', 'TraceyMannKS', 'JakeLaTurner', 'sharicedavids', 'RepRonEstes', 'RandPaul', 'McConnellPress', 'JamesComer', 'RepGuthrie', 'RepJohnYarmuth', 'RepThomasMassie', 'RepHalRogers', 'RepAndyBarr', 'JohnKennedyLA', 'BillCassidy', 'SteveScalise', 'RepRichmond', 'CaptClayHIggins', 'RepMikeJohnson', 'jbletlow', 'RepGarretGraves', 'SenAngusKing', 'SenatorCollins', 'chelliepingree', 'RepGolden', 'ChrisVanHollen', 'SenatorCardin', 'RepAndyHarrisMD', 'Call_Me_Dutch', 'RepSarbanes', 'RepAnthonyBrown', 'LeaderHoyer', 'RepDavidTrone', 'Mfume4Congress', 'Jamie_Raskin', 'SenWarren', 'SenMarkey', 'RepRichardNeal', 'RepMcGovern', 'RepLoriTrahan', 'JakeAuch', 'RepKClark', 'teammoulton', 'RepPressley', 'RepStephenLynch', 'USRepKeating', 'SenStabenow', 'SenGaryPeters', 'JackBergman_MI1', 'RepHuizenga', 'VoteMeijer', 'RepMoolenaar', 'RepDanKildee', 'RepFredUpton', 'RepWalberg', 'RepSlotkin', 'RepAndyLevin', 'LisaForCongress', 'RepHaleyStevens', 'RepDebDingell', 'RepRashida', 'RepLawrence', 'amyklobuchar', 'SenTinaSmith', 'RepHagedorn', 'RepAngieCraig', 'RepDeanPhillips', 'BettyMcCollum04', 'IlhanMN', 'RepTomEmmer', 'FischbachMN7', 'RepPeteStauber', 'SenatorWicker', 'SenHydeSmith', 'RepTrentKelly', 'BennieGThompson', 'RepMichaelGuest', 'CongPalazzo', 'HawleyMO', 'RoyBlunt', 'CoriBush', 'RepAnnWagner', 'RepBlaine', 'RepHartzler', 'repcleaver', 'RepSamGraves', 'USRepLong', 'RepJasonSmith', 'SenatorTester', 'SteveDaines', 'MattForMontana', 'SenSasse', 'SenatorFischer', 'JeffFortenberry', 'RepDonBacon', 'RepAdrianSmith', 'SenJackyRosen', 'CatherineForNV', 'repdinatitus', 'MarkAmodeiNV2', 'RepSusieLee', 'RepHorsford', 'SenatorShaheen', 'Maggie_Hassan', 'RepChrisPappas', 'RepAnnieKuster', 'SenatorMenendez', 'CoryBooker', 'DonNorcross4NJ', 'JeffVanDrew', 'RepAndyKimNJ', 'RepChrisSmith', 'JoshGottheimer', 'FrankPallone', 'RepMalinowski', 'RepSires', 'BillPascrell', 'RepDonaldPayne', 'RepSherrill', 'RepBonnie', 'SenatorLujan', 'MartinHeinrich', 'Rep_Stansbury', 'Yvette4congress', 'TeresaForNM', 'SenSchumer', 'SenGillibrand', 'RepLeeZeldin', 'Tom_Suozzi', 'RepKathleenRice', 'RepGregoryMeeks', 'RepGraceMeng', 'NydiaVelazquez', 'RepJeffries', 'RepYvetteClarke', 'RepJerryNadler', 'Nmalliotakis', 'RepMaloney', 'EspaillatNY', 'RepAOC', 'RitchieTorres', 'JamaalBowmanNY', 'MondaireJones', 'RepSeanMaloney', 'RepDelgado', 'RepPaulTonko', 'RepStefanik', 'claudiatenney', 'RepTomReed', 'RepJohnKatko', 'RepJoeMorelle', 'RepBrianHiggins', 'jacobsny27', 'SenThomTillis', 'SenatorBurr', 'GKButterfield', 'DeborahRossNC', 'RepGregMurphy', 'RepDavidEPrice', 'virginiafoxx', 'KathyManningNC', 'RepDavidRouzer', 'RepRichHudson', 'jdanbishop', 'PatrickMcHenry', 'CawthornforNC', 'RepAdams', 'BuddforCongress', 'SenJohnHoeven', 'SenKevinCramer', 'RepArmstrongND', 'Kilili_Sablan', 'senrobportman', 'SenSherrodBrown', 'RepSteveChabot', 'RepBradWenstrup', 'RepBeatty', 'Jim_Jordan', 'boblatta', 'RepBillJohnson', 'RepBobGibbs', 'WarrenDavidson', 'RepMarcyKaptur', 'RepMikeTurner', 'ShontelMBrown', 'RepBalderson', 'RepTimRyan', 'RepDaveJoyce', 'MikeCareyOH15', 'RepAGonzalez', 'SenatorLankford', 'InhofePress', 'RepKevinHern', 'RepMullin', 'RepFrankLucas', 'TomColeOK04', 'stephaniebice', 'RonWyden', 'SenJeffMerkley', 'RepBonamici', 'RepBentz', 'repblumenauer', 'RepPeterDeFazio', 'RepSchrader', 'Jenniffer2012', 'SenToomey', 'SenBobCasey', 'RepBrianFitz', 'CongBoyle', 'RepDwightEvans', 'RepDean', 'RepMGS', 'RepHoulahan', 'RepSusanWild', 'RepCartwright', 'RepMeuser', 'RepScottPerry', 'RepLloyd', 'RepFredKelle', 'RepJohnJoyce', 'GReschenthaler', 'CongressmanGT', 'MikeKellyforPA', 'RepConorLamb', 'USRepMikeDoyle', 'SenWhitehouse', 'SenJackReed', 'RepCicilline', 'jimlangevin', 'SenatorTimScott', 'LindsayGrahamSC', 'NancyMace', 'RepJoeWilson', 'RepJeffDuncan', 'RepTimmons', 'RepRalphNorman', 'WhipClyburn', 'RepTomRice', 'SenJohnThune', 'SenatorRounds', 'RepDustyJohnson', 'MarshaBlackburn', 'BillHagertyTN', 'DHarshbargerTN1', 'RepTimBurchett', 'RepChuck', 'DesJarlaisTN04', 'repjimcooper', 'RepJohnRose', 'RepMarkGreen', 'DavidKustoff', 'RepCohen', 'SenTedCruz', 'JohnCornyn', 'replouiegohmert', 'RepDanCrenshaw', 'RepVanTaylor', 'FallonForTexas', 'Lancegooden', 'JakeEllzey', 'RepFletcher', 'RepKevinBrady', 'RepAlGreen', 'RepMcCaul', 'AugustPfluger', 'RepKayGranger', 'RonnyJacksonTX', 'TXRandy14', 'RepGonzalez', 'RepEscobar', 'SessionsTX17', 'JacksonLeeTX18', 'JodeyArrington', 'JoaquinCastrotx', 'RepChipRoy', 'SheriffTNehls', 'TonyGonzales4TX', 'Bethvanduyne', 'RepRWilliams', 'michaelcburgess', 'RepCloudTX', 'RepCuellar', 'RepSylviaGarcia', 'RepEBJ', 'JudgeCarter', 'RepColinAllred', 'RepVeasey', 'RepFilemonVela', 'RepLloydDoggett', 'RepBrianBabin', 'SenMikeLee', 'SenatorRomney', 'RepBlakeMoore', 'RepChrisStewart', 'RepJohnCurtis', 'BurgessOwens', 'SenSanders', 'SenatorLeahy', 'PeterWelch', 'MarkWarner', 'timkaine', 'RobWittman', 'RepElaineLuria', 'BobbyScott', 'Donald_McEachin', 'GoodForCongress', 'RepBenCline', 'RepSpanberger', 'RepDonBeyer', 'RepMGriffith', 'RepWexton', 'GerryConnolly', 'StaceyPlaskett', 'PattyMurray', 'SenatorCantwell', 'RepDelBene', 'RepRickLarsen', 'HerreraBeutler', 'RepNewhouse', 'cathymcmorris', 'RepDerekKilmer', 'PramilaJayapal', 'RepKimSchrier', 'RepAdamSmith', 'StricklandforWA', 'Sen_JoeManchin', 'SenCapito', 'RepMcKinley', 'RepAlexMooney', 'RepCarolMiller', 'SenRonJohnson', 'SenatorBaldwin', 'RepBryanSteil', 'repmarkpocan', 'RepRonKind', 'RepGwenMoore', 'FitzgeraldForWI', 'RepGrothman', 'TomTiffanyWI', 'MikeforWI', 'SenLummis', 'SenJohnBarrasso', 'Liz_Cheney']"
            ]
          },
          "metadata": {},
          "execution_count": 8
        }
      ],
      "source": [
        "users = load_doc(USERS)\n",
        "try:\n",
        "  users[\"TwitterNickname\"] = users[\"Twitter\"].str.replace(\"https://twitter.com/\", \"\", regex=False).str.replace(\"@\", \"\", regex=False)\n",
        "except:\n",
        "  pass\n",
        "users.dropna(subset=[\"TwitterNickname\"], inplace=True)\n",
        "users = UserList(users[\"TwitterNickname\"])\n",
        "users"
      ]
    },
    {
      "cell_type": "markdown",
      "metadata": {
        "id": "JaCtVe7-oiUW"
      },
      "source": [
        "###Content###"
      ]
    },
    {
      "cell_type": "code",
      "execution_count": null,
      "metadata": {
        "colab": {
          "base_uri": "https://localhost:8080/",
          "height": 80
        },
        "id": "wMa5iyedRRVp",
        "outputId": "7829f3b4-16a0-47fc-baa5-644eccca53c7"
      },
      "outputs": [
        {
          "output_type": "execute_result",
          "data": {
            "text/plain": [
              "                                            Messedge  Lengh\n",
              "0  This story might be fake and part of propagand...    158"
            ],
            "text/html": [
              "\n",
              "  <div id=\"df-34218df4-8d62-4200-9fb2-cc38a06e0021\">\n",
              "    <div class=\"colab-df-container\">\n",
              "      <div>\n",
              "<style scoped>\n",
              "    .dataframe tbody tr th:only-of-type {\n",
              "        vertical-align: middle;\n",
              "    }\n",
              "\n",
              "    .dataframe tbody tr th {\n",
              "        vertical-align: top;\n",
              "    }\n",
              "\n",
              "    .dataframe thead th {\n",
              "        text-align: right;\n",
              "    }\n",
              "</style>\n",
              "<table border=\"1\" class=\"dataframe\">\n",
              "  <thead>\n",
              "    <tr style=\"text-align: right;\">\n",
              "      <th></th>\n",
              "      <th>Messedge</th>\n",
              "      <th>Lengh</th>\n",
              "    </tr>\n",
              "  </thead>\n",
              "  <tbody>\n",
              "    <tr>\n",
              "      <th>0</th>\n",
              "      <td>This story might be fake and part of propagand...</td>\n",
              "      <td>158</td>\n",
              "    </tr>\n",
              "  </tbody>\n",
              "</table>\n",
              "</div>\n",
              "      <button class=\"colab-df-convert\" onclick=\"convertToInteractive('df-34218df4-8d62-4200-9fb2-cc38a06e0021')\"\n",
              "              title=\"Convert this dataframe to an interactive table.\"\n",
              "              style=\"display:none;\">\n",
              "        \n",
              "  <svg xmlns=\"http://www.w3.org/2000/svg\" height=\"24px\"viewBox=\"0 0 24 24\"\n",
              "       width=\"24px\">\n",
              "    <path d=\"M0 0h24v24H0V0z\" fill=\"none\"/>\n",
              "    <path d=\"M18.56 5.44l.94 2.06.94-2.06 2.06-.94-2.06-.94-.94-2.06-.94 2.06-2.06.94zm-11 1L8.5 8.5l.94-2.06 2.06-.94-2.06-.94L8.5 2.5l-.94 2.06-2.06.94zm10 10l.94 2.06.94-2.06 2.06-.94-2.06-.94-.94-2.06-.94 2.06-2.06.94z\"/><path d=\"M17.41 7.96l-1.37-1.37c-.4-.4-.92-.59-1.43-.59-.52 0-1.04.2-1.43.59L10.3 9.45l-7.72 7.72c-.78.78-.78 2.05 0 2.83L4 21.41c.39.39.9.59 1.41.59.51 0 1.02-.2 1.41-.59l7.78-7.78 2.81-2.81c.8-.78.8-2.07 0-2.86zM5.41 20L4 18.59l7.72-7.72 1.47 1.35L5.41 20z\"/>\n",
              "  </svg>\n",
              "      </button>\n",
              "      \n",
              "  <style>\n",
              "    .colab-df-container {\n",
              "      display:flex;\n",
              "      flex-wrap:wrap;\n",
              "      gap: 12px;\n",
              "    }\n",
              "\n",
              "    .colab-df-convert {\n",
              "      background-color: #E8F0FE;\n",
              "      border: none;\n",
              "      border-radius: 50%;\n",
              "      cursor: pointer;\n",
              "      display: none;\n",
              "      fill: #1967D2;\n",
              "      height: 32px;\n",
              "      padding: 0 0 0 0;\n",
              "      width: 32px;\n",
              "    }\n",
              "\n",
              "    .colab-df-convert:hover {\n",
              "      background-color: #E2EBFA;\n",
              "      box-shadow: 0px 1px 2px rgba(60, 64, 67, 0.3), 0px 1px 3px 1px rgba(60, 64, 67, 0.15);\n",
              "      fill: #174EA6;\n",
              "    }\n",
              "\n",
              "    [theme=dark] .colab-df-convert {\n",
              "      background-color: #3B4455;\n",
              "      fill: #D2E3FC;\n",
              "    }\n",
              "\n",
              "    [theme=dark] .colab-df-convert:hover {\n",
              "      background-color: #434B5C;\n",
              "      box-shadow: 0px 1px 3px 1px rgba(0, 0, 0, 0.15);\n",
              "      filter: drop-shadow(0px 1px 2px rgba(0, 0, 0, 0.3));\n",
              "      fill: #FFFFFF;\n",
              "    }\n",
              "  </style>\n",
              "\n",
              "      <script>\n",
              "        const buttonEl =\n",
              "          document.querySelector('#df-34218df4-8d62-4200-9fb2-cc38a06e0021 button.colab-df-convert');\n",
              "        buttonEl.style.display =\n",
              "          google.colab.kernel.accessAllowed ? 'block' : 'none';\n",
              "\n",
              "        async function convertToInteractive(key) {\n",
              "          const element = document.querySelector('#df-34218df4-8d62-4200-9fb2-cc38a06e0021');\n",
              "          const dataTable =\n",
              "            await google.colab.kernel.invokeFunction('convertToInteractive',\n",
              "                                                     [key], {});\n",
              "          if (!dataTable) return;\n",
              "\n",
              "          const docLinkHtml = 'Like what you see? Visit the ' +\n",
              "            '<a target=\"_blank\" href=https://colab.research.google.com/notebooks/data_table.ipynb>data table notebook</a>'\n",
              "            + ' to learn more about interactive tables.';\n",
              "          element.innerHTML = '';\n",
              "          dataTable['output_type'] = 'display_data';\n",
              "          await google.colab.output.renderOutput(dataTable, element);\n",
              "          const docLink = document.createElement('div');\n",
              "          docLink.innerHTML = docLinkHtml;\n",
              "          element.appendChild(docLink);\n",
              "        }\n",
              "      </script>\n",
              "    </div>\n",
              "  </div>\n",
              "  "
            ]
          },
          "metadata": {},
          "execution_count": 9
        }
      ],
      "source": [
        "content = load_doc(CONTENT)[\"Messedge\"].to_list()\n",
        "load_doc(CONTENT)"
      ]
    },
    {
      "cell_type": "markdown",
      "metadata": {
        "id": "2Cp3mFdirhEb"
      },
      "source": [
        "##Credentials & login##"
      ]
    },
    {
      "cell_type": "code",
      "execution_count": null,
      "metadata": {
        "id": "pNsM-IfSS0l9"
      },
      "outputs": [],
      "source": [
        "PHONE = \"+\"\n",
        "USERNAME = \"\"\n",
        "PASSWORD = \"\"\n",
        "\n",
        "bot = TwitterSoldier(PHONE, PASSWORD, USERNAME)\n",
        "# bot.login()\n",
        "# tweets = bot.get_tweets_from_query(\"Ovsyannikova\", days=1)\n",
        "# bot.user_followers(\"MaribelSobreira\")\n"
      ]
    },
    {
      "cell_type": "code",
      "source": [
        "with tqdm(total=len(tweets)) as progress:\n",
        "  for tweet in tweets:\n",
        "    user = tweet[\"username\"]\n",
        "    print(bot.user_followers(user))\n",
        "    progress.update()"
      ],
      "metadata": {
        "id": "CdWSiYNK52bT"
      },
      "execution_count": null,
      "outputs": []
    },
    {
      "cell_type": "markdown",
      "source": [
        "##Main##"
      ],
      "metadata": {
        "id": "_U6DQJuZR1SA"
      }
    },
    {
      "cell_type": "code",
      "source": [
        "# false_shots = []\n",
        "\n",
        "# tweets = bot.get_tweets_from_query(\"Ovsyannikova\", days=1)\n",
        "\n",
        "# with tqdm(total=len(tweets)) as progress:\n",
        "#   for tweet in tweets[5000:6000]:\n",
        "#     status = random.choice(content)\n",
        "#     # media = random.choice(images)\n",
        "#     media = None\n",
        "#     false_shots.append(bot.reply_status(tweet[\"url\"], status, media))\n",
        "#     progress.update()\n"
      ],
      "metadata": {
        "id": "Kd08v5VkM7k7"
      },
      "execution_count": null,
      "outputs": []
    },
    {
      "cell_type": "code",
      "source": [
        "tweets[0][\"url\"]"
      ],
      "metadata": {
        "id": "FCdPP6RVp92R",
        "colab": {
          "base_uri": "https://localhost:8080/",
          "height": 35
        },
        "outputId": "f051143c-93a4-4233-ee49-df67e0b01eaf"
      },
      "execution_count": null,
      "outputs": [
        {
          "output_type": "execute_result",
          "data": {
            "text/plain": [
              "'https://twitter.com/MaribelSobreira/status/1504246121094340608'"
            ],
            "application/vnd.google.colaboratory.intrinsic+json": {
              "type": "string"
            }
          },
          "metadata": {},
          "execution_count": 12
        }
      ]
    },
    {
      "cell_type": "code",
      "source": [
        "url = \"https://twitter.com/MaribelSobreira/status/1504246121094340608\"\n",
        "url.split(\"status\")[0]"
      ],
      "metadata": {
        "colab": {
          "base_uri": "https://localhost:8080/",
          "height": 35
        },
        "id": "gQbN6-64wRia",
        "outputId": "2ba5e207-c43f-46c4-fb09-2b74f2fe24b0"
      },
      "execution_count": null,
      "outputs": [
        {
          "output_type": "execute_result",
          "data": {
            "text/plain": [
              "'https://twitter.com/MaribelSobreira/'"
            ],
            "application/vnd.google.colaboratory.intrinsic+json": {
              "type": "string"
            }
          },
          "metadata": {},
          "execution_count": 16
        }
      ]
    }
  ],
  "metadata": {
    "colab": {
      "collapsed_sections": [
        "jDdBbavmhVO9",
        "eXaVLC5PfwXK"
      ],
      "name": "TwitterSoldier.ipynb",
      "provenance": [],
      "include_colab_link": true
    },
    "kernelspec": {
      "display_name": "Python 3",
      "name": "python3"
    },
    "language_info": {
      "name": "python"
    }
  },
  "nbformat": 4,
  "nbformat_minor": 0
}